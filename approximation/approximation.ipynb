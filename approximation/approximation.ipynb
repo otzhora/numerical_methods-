{
 "cells": [
  {
   "cell_type": "code",
   "execution_count": 1,
   "metadata": {},
   "outputs": [],
   "source": [
    "import numpy as np\n",
    "from matplotlib import pyplot as plt\n",
    "from scipy import integrate"
   ]
  },
  {
   "cell_type": "code",
   "execution_count": 2,
   "metadata": {},
   "outputs": [],
   "source": [
    "bound = 1 #  boundary of interval \n",
    "n = 5 # number of app. points  "
   ]
  },
  {
   "cell_type": "code",
   "execution_count": 3,
   "metadata": {},
   "outputs": [],
   "source": [
    "def f(x):\n",
    "    return np.log(x ** 2) + x ** 3"
   ]
  },
  {
   "cell_type": "markdown",
   "metadata": {},
   "source": [
    "xt - points on which we will app. our function"
   ]
  },
  {
   "cell_type": "code",
   "execution_count": 4,
   "metadata": {},
   "outputs": [],
   "source": [
    "def get_xt(f, bound=bound, n=n):\n",
    "    x = np.linspace(bound, -bound, n)\n",
    "    x[x == 0] += 0.10 # since log(0) == -inf\n",
    "    return (f(x), x)"
   ]
  },
  {
   "cell_type": "code",
   "execution_count": 5,
   "metadata": {},
   "outputs": [],
   "source": [
    "def plot_ogiginal_function(bound=bound, n=n):\n",
    "    x = np.linspace(bound, -bound, 1000)\n",
    "    plt.plot(x, f(x))\n",
    "    \n",
    "    # app. point\n",
    "    xt = get_xt(f, bound, n)\n",
    "    for i in range(len(xt[0])):\n",
    "        plt.plot(xt[1][i], xt[0][i], 'ro')"
   ]
  },
  {
   "cell_type": "code",
   "execution_count": 6,
   "metadata": {},
   "outputs": [
    {
     "data": {
      "image/png": "[encoded data removed]",
      "text/plain": [
       "<Figure size 432x288 with 1 Axes>"
      ]
     },
     "metadata": {
      "needs_background": "light"
     },
     "output_type": "display_data"
    }
   ],
   "source": [
    "plot_ogiginal_function()"
   ]
  },
  {
   "cell_type": "markdown",
   "metadata": {},
   "source": [
    "### Polynomial"
   ]
  },
  {
   "cell_type": "markdown",
   "metadata": {},
   "source": [
    "Our goal is to find coeeficients $\\bar{a_{j}}$ so polynomial $P_{m}(x)=\\sum_{j=0}^{m} \\bar{a_{j}} \\varphi_{j}(x)$ which minimizes squared deviation among polynomial $P_m(x, a)$ from ${f(x)}$. So we need \n",
    "\n",
    "$$\\sigma(a, y)=\\sum_{i=0}^{n}\\left(P_{m}\\left(x_{i}\\right)-y_{i}\\right)^{2}, \\quad \\delta(a, y)=\\sqrt{\\frac{\\sigma(a, y)}{n+1}}$$ \n",
    "\n",
    "And \n",
    "\n",
    "$$ \\bar{a}= arg\\min _{a} \\delta(a, y)$$\n",
    "\n",
    "We can solve find $\\bar{a}$ knowing that $\\left.\\frac{\\partial \\sigma(a, y)}{\\partial a_{k}}\\right|_{a=\\bar{a}}=0, \\quad k=\\overline{0, m}$\n",
    "\n",
    "Let\n",
    "\n",
    "$$Q=\\left(\\begin{array}{cccc}{\\varphi_{0}\\left(x_{0}\\right),} & {\\varphi_{1}\\left(x_{0}\\right),} & {\\$$dots} & {\\varphi_{m}\\left(x_{0}\\right)} \\\\ {\\varphi_{0}\\left(x_{1}\\right),} & {\\varphi_{1}\\left(x_{1}\\right),} & {\\dots} & {\\varphi_{m}\\left(x_{1}\\right)} \\\\ {\\cdots} & {\\dots} & {\\dots} & {\\dots} \\\\ {\\varphi_{0}\\left(x_{n}\\right),} & {\\varphi_{1}\\left(x_{n}\\right),} & {\\dots} & {\\varphi_{m}\\left(x_{n}\\right)}\\end{array}\\right)$$\n",
    "\n",
    "So \n",
    "\n",
    "$$\\begin{aligned} \\sigma(a, y) &=\\|Q a-y\\|^{2}=(Q a-y, Q a-y)=(Q a, Q a)-2(Q a, y)+(y, y)=\\left(a, Q^{T} Q a\\right)-2\\left(a, Q^{T} y\\right)+\\|y\\|^{2} \\end{aligned}$$\n",
    "\n",
    "So to find parametrs we just need to solve following system of equasions\n",
    "\n",
    "$$H a=b, \\quad \\text { where } \\quad H=Q^{T} Q, \\quad b=Q^{T} y$$"
   ]
  },
  {
   "cell_type": "code",
   "execution_count": 7,
   "metadata": {},
   "outputs": [],
   "source": [
    "power_of_polynom = 3"
   ]
  },
  {
   "cell_type": "code",
   "execution_count": 8,
   "metadata": {},
   "outputs": [],
   "source": [
    "def f_p(x, a):\n",
    "    s = 0\n",
    "    for i in range(len(a)):\n",
    "        s += a[i] * x ** i\n",
    "    return s"
   ]
  },
  {
   "cell_type": "code",
   "execution_count": 9,
   "metadata": {},
   "outputs": [],
   "source": [
    "def get_Q(x, power_of_polynom=power_of_polynom):\n",
    "    Q = np.zeros((len(x), power_of_polynom+1))\n",
    "    for i in range(len(x)):\n",
    "        for j in range(power_of_polynom+1):\n",
    "            Q[i][j] = x[i] ** j\n",
    "    return Q"
   ]
  },
  {
   "cell_type": "code",
   "execution_count": 10,
   "metadata": {},
   "outputs": [],
   "source": [
    "def get_coefs_p(bound=bound, power_of_polynom=power_of_polynom, n=n):\n",
    "    yt, xt = get_xt(f, bound, n)\n",
    "\n",
    "    Q = get_Q(xt, power_of_polynom)\n",
    "\n",
    "    H = Q.T @ Q\n",
    "    b = Q.T @ yt\n",
    "\n",
    "    c = np.linalg.solve(H, b)\n",
    "    return c"
   ]
  },
  {
   "cell_type": "code",
   "execution_count": 11,
   "metadata": {},
   "outputs": [
    {
     "data": {
      "text/plain": [
       "array([-3.17145771, -0.50654497,  3.3982689 ,  1.52922609])"
      ]
     },
     "execution_count": 11,
     "metadata": {},
     "output_type": "execute_result"
    }
   ],
   "source": [
    "get_coefs_p()"
   ]
  },
  {
   "cell_type": "code",
   "execution_count": 12,
   "metadata": {},
   "outputs": [],
   "source": [
    "def plot_app_p(bound=bound, n=n, power_of_polynom=power_of_polynom):\n",
    "    plot_ogiginal_function(bound, n)\n",
    "    \n",
    "    coefs = get_coefs_p(bound, power_of_polynom, n)\n",
    "    \n",
    "    x = np.linspace(bound, -bound, 1000)\n",
    "    plt.plot(x, f_p(x, coefs))\n",
    "    \n",
    "    x = get_xt(f, bound, n)[1]"
   ]
  },
  {
   "cell_type": "code",
   "execution_count": 13,
   "metadata": {},
   "outputs": [
    {
     "data": {
      "image/png": "[encoded data removed]",
      "text/plain": [
       "<Figure size 432x288 with 1 Axes>"
      ]
     },
     "metadata": {
      "needs_background": "light"
     },
     "output_type": "display_data"
    }
   ],
   "source": [
    "plot_app_p(power_of_polynom=3, n=5)"
   ]
  },
  {
   "cell_type": "markdown",
   "metadata": {},
   "source": [
    "### Legendre polynomials "
   ]
  },
  {
   "cell_type": "markdown",
   "metadata": {},
   "source": [
    "Formula for lagendre polynomials is following: \n",
    "\n",
    "$$L_{n}(x)=\\frac{1}{2^{n} \\cdot n !} \\frac{d^{n}}{d x^{n}}\\left[\\left(x^{2}-1\\right)^{n}\\right]$$\n",
    "\n",
    "I dont know how to programm it properly (not using symbols bc they are slow), so i hardcoded first 4, which is exact amount i need to get ploynomial of power 3.\n",
    "\n",
    "$$c_{k}=\\frac{\\int_{a}^{b}p(x) f(x) Q_{k}(x) d x}{\\int_{a}^{b} p(x) Q_{k}^{2}(x) d x}$$\n",
    "\n",
    "And for legandre polynomial $p(x)=1, x \\in[-1,1]$\n",
    "\n",
    "And i dont know how to programm it properly, so i hardcoded first 4, which is exact amount i need to get ploynomial of power 3"
   ]
  },
  {
   "cell_type": "code",
   "execution_count": 14,
   "metadata": {},
   "outputs": [],
   "source": [
    "def L_0(x):\n",
    "    return 1"
   ]
  },
  {
   "cell_type": "code",
   "execution_count": 15,
   "metadata": {},
   "outputs": [],
   "source": [
    "def L_1(x):\n",
    "    return x"
   ]
  },
  {
   "cell_type": "code",
   "execution_count": 16,
   "metadata": {},
   "outputs": [],
   "source": [
    "def L_2(x):\n",
    "    return 0.5 * (3 * x ** 2 - 1)"
   ]
  },
  {
   "cell_type": "code",
   "execution_count": 17,
   "metadata": {},
   "outputs": [],
   "source": [
    "def L_3(x):\n",
    "    return 0.125 * (5 * x ** 3 - 3 * x)"
   ]
  },
  {
   "cell_type": "code",
   "execution_count": 18,
   "metadata": {},
   "outputs": [],
   "source": [
    "def c_0(a):\n",
    "    #return (((a ** 3)/3-np.cos(a)) - (((-a) ** 3)/3-np.cos(-a))) / 2*a\n",
    "    \n",
    "    #return integrate.quad(lambda x: f(x)*L_0(x), -a, a)[0] / integrate.quad(lambda x: L_0(x)**2, -a, a)[0]\n",
    "    return 2 * a * (np.log(a ** 2) - 2) / 2 * a"
   ]
  },
  {
   "cell_type": "code",
   "execution_count": 19,
   "metadata": {},
   "outputs": [],
   "source": [
    "def c_1(a):\n",
    "    #return ((a**4/4+np.sin(a)-a*np.cos(a)) - (a**4/4+np.sin(-a)+a*np.cos(-a)))/(2*a**3/3)\n",
    "    #return integrate.quad(lambda x: f(x)*L_1(x), -a, a)[0] / integrate.quad(lambda x: L_1(x)**2, -a, a)[0]\n",
    "    return 3 * a ** 2 / 5"
   ]
  },
  {
   "cell_type": "code",
   "execution_count": 20,
   "metadata": {},
   "outputs": [],
   "source": [
    "def c_2(a):\n",
    "    #return (((3.5-1.5*a**2)*np.cos(a)+0.3*a**5-0.166666667*a**3+3*a*np.sin(a)) - ((3.5-1.5*a**2)*np.cos(-a)+0.3*(-a)**5-0.166666667*(-a)**3+3*(-a)*np.sin(-a))) / ((0.45*a**5-0.5*a**3+0.25*a) - (0.45*(-a)**5-0.5*(-a)**3+0.25*(-a)))\n",
    "    #return integrate.quad(lambda x: f(x)*L_2(x), -a, a)[0] / integrate.quad(lambda x: L_2(x)**2, -a, a)[0]\n",
    "    r1 = a * (a ** 2 - 1) * np.log(a ** 2) - 2 / 3 * a * (a ** 2 - 3) # integral of f(x)*L_2(x) from -a to a \n",
    "    r2 = 0.9 * a ** 5 - a ** 3 + 0.5 * a # integral of L_2(x)**2 from -a to a \n",
    "    return r1 / r2"
   ]
  },
  {
   "cell_type": "code",
   "execution_count": 21,
   "metadata": {},
   "outputs": [],
   "source": [
    "def c_3(a):\n",
    "    #return ((0.104167*a**6-0.09375*a**4+(4.125*a-0.625*a**3)*np.cos(a)+(1.875*a**2-4.125)*np.sin(a)) - (0.104167*a**6-0.09375*a**4+(4.125*(-a)-0.625*(-a)**3)*np.cos(-a)+(1.875*a**2-4.125)*np.sin(-a))) / ((0.0558036*a**7-0.09375*a**5+0.046875*a**3)-(0.0558036*(-a)**7-0.09375*(-a)**5+0.046875*(-a)**3))\n",
    "    #return integrate.quad(lambda x: f(x)*L_3(x), -a, a)[0] / integrate.quad(lambda x: L_3(x)**2, -a, a)[0]\n",
    "    r1 = 5 * a ** 7 / 28 - 3 * a ** 5 / 20 # integral of f(x)*L_3(x) from -a to a \n",
    "    r2 = 0.111607 * a ** 7 - 0.1875 * a ** 5 + 0.09375 * a ** 3 # integral of L_3(x)**2 from -a to a \n",
    "    return r1 / r2"
   ]
  },
  {
   "cell_type": "code",
   "execution_count": 22,
   "metadata": {},
   "outputs": [],
   "source": [
    "L = [L_0, L_1, L_2, L_3]\n",
    "C = [c_0, c_1, c_2, c_3]"
   ]
  },
  {
   "cell_type": "code",
   "execution_count": 23,
   "metadata": {},
   "outputs": [],
   "source": [
    "def f_L(x, coefs):\n",
    "    assert len(coefs) < 5, \"I only hardcoded 4 :(\"\n",
    "    \n",
    "    s = 0\n",
    "    for i in range(len(coefs)):\n",
    "        s += L[i](x) * coefs[i]\n",
    "    return s"
   ]
  },
  {
   "cell_type": "code",
   "execution_count": 24,
   "metadata": {},
   "outputs": [],
   "source": [
    "def get_coefs_l(bound=bound, power_of_polynom=power_of_polynom):\n",
    "    assert power_of_polynom < 4, \"I only hardcoded 4 :(\"\n",
    "    \n",
    "    c = [c(bound) for c in C[:power_of_polynom+1]]\n",
    "    return c"
   ]
  },
  {
   "cell_type": "code",
   "execution_count": 25,
   "metadata": {},
   "outputs": [],
   "source": [
    "def plot_app_l(bound=bound, n=n, power_of_polynom=power_of_polynom):\n",
    "    assert power_of_polynom < 4, \"I only hardcoded 4 :(\"\n",
    "    \n",
    "    plot_ogiginal_function(bound, n)\n",
    "    \n",
    "    coefs = get_coefs_l(bound, power_of_polynom)\n",
    "    \n",
    "    x = np.linspace(bound, -bound, 1000)\n",
    "    plt.plot(x, f_L(x, coefs))"
   ]
  },
  {
   "cell_type": "code",
   "execution_count": 26,
   "metadata": {},
   "outputs": [
    {
     "data": {
      "image/png": "[encoded data removed]",
      "text/plain": [
       "<Figure size 432x288 with 1 Axes>"
      ]
     },
     "metadata": {
      "needs_background": "light"
     },
     "output_type": "display_data"
    }
   ],
   "source": [
    "plot_app_l(power_of_polynom=3, n=5)"
   ]
  },
  {
   "cell_type": "code",
   "execution_count": null,
   "metadata": {},
   "outputs": [],
   "source": []
  }
 ],
 "metadata": {
  "kernelspec": {
   "display_name": "Python 3",
   "language": "python",
   "name": "python3"
  },
  "language_info": {
   "codemirror_mode": {
    "name": "ipython",
    "version": 3
   },
   "file_extension": ".py",
   "mimetype": "text/x-python",
   "name": "python",
   "nbconvert_exporter": "python",
   "pygments_lexer": "ipython3",
   "version": "3.8.1"
  }
 },
 "nbformat": 4,
 "nbformat_minor": 2
}
