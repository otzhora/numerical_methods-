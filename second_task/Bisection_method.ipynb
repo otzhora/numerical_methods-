{
 "cells": [
  {
   "cell_type": "markdown",
   "metadata": {},
   "source": [
    "# Приближенное решение уравнения ${f(x) = 0}$ методом деления отрезка пополам "
   ]
  },
  {
   "cell_type": "markdown",
   "metadata": {},
   "source": [
    "## Описание метода\n",
    "\n",
    "Для работы метода нам нужно знать отрезок [a, b], такой что выполняется теорема Больцано-Коши ($f(a) * f(b) < 0$). В таком случае на этом отрезке $\\exists c: f(c) = 0, c \\in (a, b)$. Мы будем строить последовательность отрезков $\\{[a_n, b_n] : [a_n, b_n] \\subset [a_{n-1}, b_{n-1}] \\subset [a, b]\\}$, на концах которой функция принимает значения разных знаков. На каждом шаге итерации мы вычисляем значение $\\xi = \\frac{a_n + b_n}{2}$ и значение функции $f(\\xi)$ в этой точке. После мы проверяем является ли $\\xi$ корнем нашего уравнения и если не является то мы добавляем в нашу последовательность отрезков один из отрезков $[a_n, \\xi]$ или $[\\xi, b_n]$ (выбираем из них тот на концах которого функция имеет разные знаки) "
   ]
  },
  {
   "cell_type": "code",
   "execution_count": 1,
   "metadata": {},
   "outputs": [],
   "source": [
    "from matplotlib import pyplot as plt\n",
    "import numpy as np\n",
    "from scipy import optimize as opt"
   ]
  },
  {
   "cell_type": "markdown",
   "metadata": {},
   "source": [
    "Мне достался вариант 11, c функцией $f(x) = \\frac{1 + \\cos{x}}{3 - \\sin{x}} - x$"
   ]
  },
  {
   "cell_type": "code",
   "execution_count": 2,
   "metadata": {},
   "outputs": [],
   "source": [
    "f = lambda x: (1 + np.cos(x)) / (3 - np.sin(x)) - x"
   ]
  },
  {
   "cell_type": "markdown",
   "metadata": {},
   "source": [
    "Строим график, чтобы визуально определить a и b из алгоритма "
   ]
  },
  {
   "cell_type": "code",
   "execution_count": 3,
   "metadata": {
    "scrolled": true
   },
   "outputs": [
    {
     "data": {
      "image/png": "[encoded data removed]",
      "text/plain": [
       "<Figure size 432x288 with 1 Axes>"
      ]
     },
     "metadata": {
      "needs_background": "light"
     },
     "output_type": "display_data"
    }
   ],
   "source": [
    "x = np.arange(0.2, 1, 0.01)\n",
    "plt.plot(x, f(x), x, np.zeros(len(x)))\n",
    "plt.show()"
   ]
  },
  {
   "cell_type": "markdown",
   "metadata": {},
   "source": [
    "Сама функция реализующая алгоритм "
   ]
  },
  {
   "cell_type": "code",
   "execution_count": 4,
   "metadata": {},
   "outputs": [],
   "source": [
    "def bisect(f, a, b, eps):\n",
    "    assert f(a) * f(b) < 0, 'f(a) * f(b) should be < 0'\n",
    "    \n",
    "    an = a\n",
    "    bn = b\n",
    "    while True:\n",
    "        x0 = (an + bn) / 2\n",
    "        \n",
    "        if f(x0) == 0 or bn - an < 2 * eps:\n",
    "            return x0\n",
    "        \n",
    "        if f(an) * f(x0) < 0:\n",
    "            an = an\n",
    "            bn = x0\n",
    "        else:\n",
    "            an = x0\n",
    "            bn = bn"
   ]
  },
  {
   "cell_type": "markdown",
   "metadata": {},
   "source": [
    "Вычисление корня $f(x)$"
   ]
  },
  {
   "cell_type": "code",
   "execution_count": 5,
   "metadata": {},
   "outputs": [
    {
     "data": {
      "text/plain": [
       "0.7471107482910155"
      ]
     },
     "execution_count": 5,
     "metadata": {},
     "output_type": "execute_result"
    }
   ],
   "source": [
    "my_sol = bisect(f, 0.2, 1.0, 1e-6)\n",
    "my_sol"
   ]
  },
  {
   "cell_type": "markdown",
   "metadata": {},
   "source": [
    "Вычисление корня $f(x)$ аналогичным методом из библиотеки scipy (для проверки моего решения)"
   ]
  },
  {
   "cell_type": "code",
   "execution_count": 8,
   "metadata": {},
   "outputs": [
    {
     "data": {
      "text/plain": [
       "0.7471111956581811"
      ]
     },
     "execution_count": 8,
     "metadata": {},
     "output_type": "execute_result"
    }
   ],
   "source": [
    "scipy_sol = opt.root_scalar(f, bracket=[0.1, 1.0], method='bisect').root\n",
    "scipy_sol"
   ]
  },
  {
   "cell_type": "markdown",
   "metadata": {},
   "source": [
    "Насколько сильно мое решение отличается от решения scipy "
   ]
  },
  {
   "cell_type": "code",
   "execution_count": 9,
   "metadata": {},
   "outputs": [
    {
     "data": {
      "text/plain": [
       "4.473671655347289e-07"
      ]
     },
     "execution_count": 9,
     "metadata": {},
     "output_type": "execute_result"
    }
   ],
   "source": [
    "scipy_sol - my_sol"
   ]
  },
  {
   "cell_type": "code",
   "execution_count": null,
   "metadata": {},
   "outputs": [],
   "source": []
  }
 ],
 "metadata": {
  "kernelspec": {
   "display_name": "Python 3",
   "language": "python",
   "name": "python3"
  },
  "language_info": {
   "codemirror_mode": {
    "name": "ipython",
    "version": 3
   },
   "file_extension": ".py",
   "mimetype": "text/x-python",
   "name": "python",
   "nbconvert_exporter": "python",
   "pygments_lexer": "ipython3",
   "version": "3.6.6"
  }
 },
 "nbformat": 4,
 "nbformat_minor": 2
}
