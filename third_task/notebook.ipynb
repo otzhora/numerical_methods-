{
 "cells": [
  {
   "cell_type": "code",
   "execution_count": 1,
   "metadata": {},
   "outputs": [],
   "source": [
    "import numpy as np"
   ]
  },
  {
   "cell_type": "markdown",
   "metadata": {},
   "source": [
    "# Решение системы нелинейных уравнений методом Ньютона "
   ]
  },
  {
   "cell_type": "markdown",
   "metadata": {},
   "source": [
    "Решение систем нелинейных уравнений методом ньютона состоит в построении следующей итерационной последовательности \n",
    "<center>\n",
    "    ${\\vec{x}^{(k+1)} = \\vec{x}^{(k)} - \\big[\\frac{\\partial{{f(\\vec{x}^{k})}}}{\\partial{\\vec{x}}}\\big]^{-1}*f(\\vec{x}^{(k)})}$\n",
    "</center>"
   ]
  },
  {
   "cell_type": "code",
   "execution_count": 2,
   "metadata": {},
   "outputs": [],
   "source": [
    "def f(x):\n",
    "    return [np.tan(x[0] * x[1] + 0.2) - x[0] ** 2, 0.6 * x[0] ** 2 + 2 * x[1] ** 2 - 1]"
   ]
  },
  {
   "cell_type": "code",
   "execution_count": 3,
   "metadata": {},
   "outputs": [],
   "source": [
    "def g(x):\n",
    "    return [[x[1] / np.cos(x[0] * x[1] + 0.2) ** 2 - 2 * x[0], 1 / np.cos(x[0] * x[1] + 0.2) ** 2],\n",
    "           [1.6 * x[0], 4 * x[1]]]"
   ]
  },
  {
   "cell_type": "code",
   "execution_count": 4,
   "metadata": {},
   "outputs": [],
   "source": [
    "# n - количество уравнений \n",
    "# x - начальное приближение\n",
    "# f - f(x)\n",
    "# g - g(x) вычисляет матрицу производных \n",
    "\n",
    "def Newts(x, f, g, eps):\n",
    "    k = 0\n",
    "    while (True):\n",
    "        x_ = x - np.linalg.inv(g(x)) @ f(x)\n",
    "        k += 1\n",
    "        if np.linalg.norm(x_ - x) < eps:\n",
    "            return x_, k\n",
    "        x = x_\n"
   ]
  },
  {
   "cell_type": "code",
   "execution_count": 5,
   "metadata": {},
   "outputs": [
    {
     "data": {
      "text/plain": [
       "[[5.615963967207052, 7.615963967207052], [1.6, 4]]"
      ]
     },
     "execution_count": 5,
     "metadata": {},
     "output_type": "execute_result"
    }
   ],
   "source": [
    "x = [1, 1]\n",
    "g(x)"
   ]
  },
  {
   "cell_type": "code",
   "execution_count": 6,
   "metadata": {},
   "outputs": [
    {
     "data": {
      "text/plain": [
       "(array([0.87646187, 0.51917663]), 10)"
      ]
     },
     "execution_count": 6,
     "metadata": {},
     "output_type": "execute_result"
    }
   ],
   "source": [
    "ans = Newts(x, f, g, 1e-6, )\n",
    "ans"
   ]
  },
  {
   "cell_type": "code",
   "execution_count": 7,
   "metadata": {},
   "outputs": [
    {
     "data": {
      "text/plain": [
       "[-4.940548370413467e-08, -1.3592064251888303e-08]"
      ]
     },
     "execution_count": 7,
     "metadata": {},
     "output_type": "execute_result"
    }
   ],
   "source": [
    "f(ans[0])"
   ]
  },
  {
   "cell_type": "markdown",
   "metadata": {},
   "source": [
    "# Решение систем линейных уравнений методом Гаусса"
   ]
  },
  {
   "cell_type": "markdown",
   "metadata": {},
   "source": [
    "В данном методе мы дополняем матрицу ${A}$ вектором ${b}$ и имеем ${(A|b)}$. После чего мы осуществляем прямой и обратный ход метода Гаусса"
   ]
  },
  {
   "cell_type": "code",
   "execution_count": 8,
   "metadata": {},
   "outputs": [],
   "source": [
    "A = np.array([[2.16, 1.96, 1.56],\n",
    "    [3.55, 3.23, 2.78],\n",
    "    [4.85, 4.47, 3.97]])"
   ]
  },
  {
   "cell_type": "code",
   "execution_count": 9,
   "metadata": {},
   "outputs": [],
   "source": [
    "b = np.array([[13.16], [21.73], [29.75]])"
   ]
  },
  {
   "cell_type": "code",
   "execution_count": 10,
   "metadata": {},
   "outputs": [],
   "source": [
    "def gaus(A, b):\n",
    "    n = A.shape[0]\n",
    "    for i in range(n):\n",
    "        b[i] /= A[i][i]\n",
    "        A[i] /= A[i][i]\n",
    "        for j in range(i + 1, n):\n",
    "            b[j] -= A[j][i] * b[i]\n",
    "            A[j] -= A[j][i] * A[i]\n",
    "            \n",
    "    for i in range(n - 1, -1, -1):\n",
    "        for j in range(i - 1, -1, -1):\n",
    "            b[j] -= b[i] * A[j][i]\n",
    "    return b"
   ]
  },
  {
   "cell_type": "code",
   "execution_count": 11,
   "metadata": {},
   "outputs": [
    {
     "data": {
      "text/plain": [
       "array([[ 6.06990622],\n",
       "       [-0.35959079],\n",
       "       [ 0.48320546]])"
      ]
     },
     "execution_count": 11,
     "metadata": {},
     "output_type": "execute_result"
    }
   ],
   "source": [
    "ans = gaus(A.copy(), b.copy())\n",
    "ans"
   ]
  },
  {
   "cell_type": "code",
   "execution_count": 12,
   "metadata": {},
   "outputs": [
    {
     "data": {
      "text/plain": [
       "array([[1.77635684e-15],\n",
       "       [0.00000000e+00],\n",
       "       [0.00000000e+00]])"
      ]
     },
     "execution_count": 12,
     "metadata": {},
     "output_type": "execute_result"
    }
   ],
   "source": [
    "A @ ans - b"
   ]
  },
  {
   "cell_type": "markdown",
   "metadata": {},
   "source": [
    "# Решение систем уравнений методом простых итераций "
   ]
  },
  {
   "cell_type": "markdown",
   "metadata": {},
   "source": [
    "Систему уравнений \n",
    "<center> ${Cx=d}$</center>\n",
    "Преобразуем к виду \n",
    "<center> ${x = b + Ax}$</center>\n",
    "И вычисляем решение как предел последовательности \n",
    "<center>${x^{(k+1)}=b+Ax^{(k)}}$</center>"
   ]
  },
  {
   "cell_type": "code",
   "execution_count": 13,
   "metadata": {},
   "outputs": [],
   "source": [
    "C = np.array([[13.4, 0.581, 0.702, 0.0822],\n",
    "             [0.0408, 12.5, 0.65, 0.77],\n",
    "             [0.0356, 0.0477, 11.6, 0.718],\n",
    "             [0.0304, 0.0425, 0.0546, 10.7]])"
   ]
  },
  {
   "cell_type": "code",
   "execution_count": 14,
   "metadata": {},
   "outputs": [],
   "source": [
    "d = np.array([[17.7828], [19.0599], [19.9744], [20.5261]])"
   ]
  },
  {
   "cell_type": "code",
   "execution_count": 15,
   "metadata": {},
   "outputs": [],
   "source": [
    "def simple_iter(C, d, x, eps):\n",
    "    k = 0\n",
    "    n = C.shape[0]\n",
    "    while(True):\n",
    "        x_ = np.zeros(n)\n",
    "        \n",
    "        for i in range(n):\n",
    "            x_[i] = d[i] / C[i][i]\n",
    "            for j in range(n):\n",
    "                if i != j:\n",
    "                    x_[i] -= C[i][j] / C[i][i] * x[j]\n",
    "                    \n",
    "        k += 1\n",
    "        if np.linalg.norm(x_ - x) < eps:\n",
    "            return [x_, k]\n",
    "        x = x_"
   ]
  },
  {
   "cell_type": "code",
   "execution_count": 16,
   "metadata": {},
   "outputs": [],
   "source": [
    "x = np.array([1, 1, 1, 1])"
   ]
  },
  {
   "cell_type": "code",
   "execution_count": 17,
   "metadata": {},
   "outputs": [
    {
     "data": {
      "text/plain": [
       "[array([[1.17457001],\n",
       "        [1.32086943],\n",
       "        [1.59519211],\n",
       "        [1.90160361]]), 13]"
      ]
     },
     "execution_count": 17,
     "metadata": {},
     "output_type": "execute_result"
    }
   ],
   "source": [
    "ans = simple_iter(C, d, x, 1e-15)\n",
    "ans[0] = ans[0].reshape(-1, 1)\n",
    "ans"
   ]
  },
  {
   "cell_type": "code",
   "execution_count": 18,
   "metadata": {},
   "outputs": [
    {
     "data": {
      "text/plain": [
       "array([[0.],\n",
       "       [0.],\n",
       "       [0.],\n",
       "       [0.]])"
      ]
     },
     "execution_count": 18,
     "metadata": {},
     "output_type": "execute_result"
    }
   ],
   "source": [
    "C @ ans[0] - d"
   ]
  },
  {
   "cell_type": "markdown",
   "metadata": {},
   "source": [
    "# Обращение симметрично положительно определенной матрицы методом квадратного корня "
   ]
  },
  {
   "cell_type": "markdown",
   "metadata": {},
   "source": [
    "В данном методе мы сначала должны представить матрицу в виде ${A = L * L^T}$ (треугольное разложение Холецкого), тогда ${A^{-1} = (L^T)^{-1}*L^{-1}}$. Вычисление элементов матриц ${L}$ и ${L^T}$ производим по формулам: \n",
    "<center> \n",
    "    ${l_{ii} = \\sqrt{a_{ii} - \\sum_{k=1}^{i-1}l_{ik}^2}{}}$\n",
    "    ${l_{ij} = \\frac{a_{ii} - \\sum_{k=1}^{j-1}l_{ik}^2l_{jk}^2}{l_{ij}}}$\n",
    "    ${P_{ii} = \\frac{1}{l_{ii}}}$\n",
    "    ${P_{ij} = -\\frac{\\sum_{k=1}^{j-1}l_{jk}P_{ki}}{l_{jj}}}$\n",
    "</center>"
   ]
  },
  {
   "cell_type": "code",
   "execution_count": 90,
   "metadata": {},
   "outputs": [],
   "source": [
    "A = np.array([[0.1399, 0.5513, 0.9627, 1.3741],\n",
    "             [0.5513, 10.8634, 15.7276, 20.5918],\n",
    "             [0.9627, 15.7276, 53.5043, 66.8627],\n",
    "             [1.3741, 20.5918, 66.8627, 149.3963]])"
   ]
  },
  {
   "cell_type": "code",
   "execution_count": 85,
   "metadata": {},
   "outputs": [],
   "source": [
    "def L(A):\n",
    "    L = np.ndarray(A.shape)\n",
    "    n = A.shape[0]\n",
    "    for i in range(n):\n",
    "        for j in range(n):\n",
    "            if i == j:\n",
    "                buf = A[i][i]\n",
    "                for k in range(i-1):\n",
    "                    buf -= L[i][k] ** 2\n",
    "                L[i][i] = buf ** 0.5\n",
    "            elif j < i:dd\n",
    "                buf = A[i][j] / L[j][j]\n",
    "                for k in range(j-1):\n",
    "                    buf -= L[i][k] * L[j][k] / L[j][j]\n",
    "                L[i][j] = buf\n",
    "            else:\n",
    "                L[i][j] = 0\n",
    "    return L"
   ]
  },
  {
   "cell_type": "code",
   "execution_count": 86,
   "metadata": {},
   "outputs": [],
   "source": [
    "def inverse_matrix(A):\n",
    "    l = L(A)\n",
    "    P = np.zeros(A.shape)\n",
    "    n = A.shape[0]\n",
    "    for i in range(n):\n",
    "        P[i][i] = 1 / l[i,i]\n",
    "        for j in range(i+1, n):\n",
    "            buf = 0\n",
    "            for k in range(j):\n",
    "                buf += l[j,k] * P[k][i]\n",
    "            P[i][j] = - buf / l[j,j]\n",
    "\n",
    "    return P.T @ P"
   ]
  },
  {
   "cell_type": "code",
   "execution_count": 87,
   "metadata": {},
   "outputs": [],
   "source": [
    "ans = inverse_matrix(A.copy())"
   ]
  },
  {
   "cell_type": "code",
   "execution_count": 92,
   "metadata": {},
   "outputs": [
    {
     "data": {
      "text/plain": [
       "array([[ 1.00000000e+00, -2.77555756e-17, -3.46944695e-17,\n",
       "         2.77555756e-17],\n",
       "       [ 0.00000000e+00,  1.00000000e+00,  1.11022302e-16,\n",
       "        -1.11022302e-16],\n",
       "       [-8.88178420e-16,  0.00000000e+00,  1.00000000e+00,\n",
       "         0.00000000e+00],\n",
       "       [ 0.00000000e+00,  0.00000000e+00,  0.00000000e+00,\n",
       "         1.00000000e+00]])"
      ]
     },
     "execution_count": 92,
     "metadata": {},
     "output_type": "execute_result"
    }
   ],
   "source": [
    "A @ ans"
   ]
  }
 ],
 "metadata": {
  "kernelspec": {
   "display_name": "Python 3",
   "language": "python",
   "name": "python3"
  },
  "language_info": {
   "codemirror_mode": {
    "name": "ipython",
    "version": 3
   },
   "file_extension": ".py",
   "mimetype": "text/x-python",
   "name": "python",
   "nbconvert_exporter": "python",
   "pygments_lexer": "ipython3",
   "version": "3.6.6"
  }
 },
 "nbformat": 4,
 "nbformat_minor": 2
}
