{
 "cells": [
  {
   "cell_type": "code",
   "execution_count": 1,
   "metadata": {},
   "outputs": [],
   "source": [
    "import numpy as np"
   ]
  },
  {
   "cell_type": "markdown",
   "metadata": {},
   "source": [
    "# Решение системы нелинейных уравнений методом Ньютона "
   ]
  },
  {
   "cell_type": "code",
   "execution_count": 13,
   "metadata": {},
   "outputs": [],
   "source": [
    "def f(x):\n",
    "    return [np.tan(x[0] * x[1] + 0.2) - x[0] ** 2, 0.6 * x[0] ** 2 + 2 * x[1] ** 2 - 1]"
   ]
  },
  {
   "cell_type": "code",
   "execution_count": 14,
   "metadata": {},
   "outputs": [],
   "source": [
    "def g(x):\n",
    "    return [[x[1] / np.cos(x[0] * x[1] + 0.2) ** 2 - 2 * x[0], 1 / np.cos(x[0] * x[1] + 0.2) ** 2],\n",
    "           [1.6 * x[0], 4 * x[1]]]"
   ]
  },
  {
   "cell_type": "code",
   "execution_count": 27,
   "metadata": {},
   "outputs": [],
   "source": [
    "# n - количество уравнений \n",
    "# x - начальное приближение\n",
    "# f - f(x)\n",
    "# g - g(x) вычисляет матрицу производных \n",
    "\n",
    "def Newts(x, f, g, eps):\n",
    "    k = 0\n",
    "    while (True):\n",
    "        x_ = x - np.linalg.inv(g(x)) @ f(x)\n",
    "        k += 1\n",
    "        if np.linalg.norm(x_ - x) < eps:\n",
    "            return x_, k\n",
    "        x = x_\n"
   ]
  },
  {
   "cell_type": "code",
   "execution_count": 28,
   "metadata": {},
   "outputs": [
    {
     "data": {
      "text/plain": [
       "[[5.615963967207052, 7.615963967207052], [1.6, 4]]"
      ]
     },
     "execution_count": 28,
     "metadata": {},
     "output_type": "execute_result"
    }
   ],
   "source": [
    "x = [1, 1]\n",
    "g(x)"
   ]
  },
  {
   "cell_type": "code",
   "execution_count": 29,
   "metadata": {},
   "outputs": [
    {
     "data": {
      "text/plain": [
       "(array([0.87646187, 0.51917663]), 10)"
      ]
     },
     "execution_count": 29,
     "metadata": {},
     "output_type": "execute_result"
    }
   ],
   "source": [
    "ans = Newts(x, f, g, 1e-6, )\n",
    "ans"
   ]
  },
  {
   "cell_type": "code",
   "execution_count": 31,
   "metadata": {},
   "outputs": [
    {
     "data": {
      "text/plain": [
       "[-4.940548370413467e-08, -1.3592064251888303e-08]"
      ]
     },
     "execution_count": 31,
     "metadata": {},
     "output_type": "execute_result"
    }
   ],
   "source": [
    "f(ans[0])"
   ]
  },
  {
   "cell_type": "markdown",
   "metadata": {},
   "source": [
    "# Решение систем линейных уравнений методом Гаусса"
   ]
  },
  {
   "cell_type": "code",
   "execution_count": 151,
   "metadata": {},
   "outputs": [],
   "source": [
    "A = np.array([[2.16, 1.96, 1.56],\n",
    "    [3.55, 3.23, 2.78],\n",
    "    [4.85, 4.47, 3.97]])"
   ]
  },
  {
   "cell_type": "code",
   "execution_count": 152,
   "metadata": {},
   "outputs": [],
   "source": [
    "b = np.array([[13.16], [21.73], [29.75]])"
   ]
  },
  {
   "cell_type": "code",
   "execution_count": 153,
   "metadata": {},
   "outputs": [],
   "source": [
    "def gaus(A, b):\n",
    "    n = A.shape[0]\n",
    "    for i in range(n):\n",
    "        b[i] /= A[i][i]\n",
    "        A[i] /= A[i][i]\n",
    "        for j in range(i + 1, n):\n",
    "            b[j] -= A[j][i] * b[i]\n",
    "            A[j] -= A[j][i] * A[i]\n",
    "            \n",
    "    for i in range(n - 1, -1, -1):\n",
    "        for j in range(i - 1, -1, -1):\n",
    "            b[j] -= b[i] * A[j][i]\n",
    "    return b"
   ]
  },
  {
   "cell_type": "code",
   "execution_count": 154,
   "metadata": {},
   "outputs": [
    {
     "data": {
      "text/plain": [
       "array([[ 6.06990622],\n",
       "       [-0.35959079],\n",
       "       [ 0.48320546]])"
      ]
     },
     "execution_count": 154,
     "metadata": {},
     "output_type": "execute_result"
    }
   ],
   "source": [
    "ans = gaus(A.copy(), b.copy())\n",
    "ans"
   ]
  },
  {
   "cell_type": "code",
   "execution_count": 155,
   "metadata": {},
   "outputs": [
    {
     "data": {
      "text/plain": [
       "array([[1.77635684e-15],\n",
       "       [0.00000000e+00],\n",
       "       [0.00000000e+00]])"
      ]
     },
     "execution_count": 155,
     "metadata": {},
     "output_type": "execute_result"
    }
   ],
   "source": [
    "A @ ans - b"
   ]
  },
  {
   "cell_type": "markdown",
   "metadata": {},
   "source": [
    "# Решение систем уравнений методом простых итераций "
   ]
  },
  {
   "cell_type": "code",
   "execution_count": 119,
   "metadata": {},
   "outputs": [],
   "source": [
    "C = np.array([[13.4, 0.581, 0.702, 0.0822],\n",
    "             [0.0408, 12.5, 0.65, 0.77],\n",
    "             [0.0356, 0.0477, 11.6, 0.718],\n",
    "             [0.0304, 0.0425, 0.0546, 10.7]])"
   ]
  },
  {
   "cell_type": "code",
   "execution_count": 120,
   "metadata": {},
   "outputs": [],
   "source": [
    "d = np.array([[17.7828], [19.0599], [19.9744], [20.5261]])"
   ]
  },
  {
   "cell_type": "code",
   "execution_count": 144,
   "metadata": {},
   "outputs": [],
   "source": [
    "def simple_iter(C, d, x, eps):\n",
    "    k = 0\n",
    "    n = C.shape[0]\n",
    "    while(True):\n",
    "        x_ = np.zeros(n)\n",
    "        \n",
    "        for i in range(n):\n",
    "            x_[i] = d[i] / C[i][i]\n",
    "            for j in range(n):\n",
    "                if i != j:\n",
    "                    x_[i] -= C[i][j] / C[i][i] * x[j]\n",
    "                    \n",
    "        k += 1\n",
    "        if np.linalg.norm(x_ - x) < eps:\n",
    "            return [x_, k]\n",
    "        x = x_"
   ]
  },
  {
   "cell_type": "code",
   "execution_count": 145,
   "metadata": {},
   "outputs": [],
   "source": [
    "x = np.array([1, 1, 1, 1])"
   ]
  },
  {
   "cell_type": "code",
   "execution_count": 148,
   "metadata": {},
   "outputs": [
    {
     "data": {
      "text/plain": [
       "[array([[1.17457001],\n",
       "        [1.32086943],\n",
       "        [1.59519211],\n",
       "        [1.90160361]]), 13]"
      ]
     },
     "execution_count": 148,
     "metadata": {},
     "output_type": "execute_result"
    }
   ],
   "source": [
    "ans = simple_iter(C, d, x, 1e-15)\n",
    "ans[0] = ans[0].reshape(-1, 1)\n",
    "ans"
   ]
  },
  {
   "cell_type": "code",
   "execution_count": 149,
   "metadata": {},
   "outputs": [
    {
     "data": {
      "text/plain": [
       "array([[0.],\n",
       "       [0.],\n",
       "       [0.],\n",
       "       [0.]])"
      ]
     },
     "execution_count": 149,
     "metadata": {},
     "output_type": "execute_result"
    }
   ],
   "source": [
    "C @ ans[0] - d"
   ]
  },
  {
   "cell_type": "markdown",
   "metadata": {},
   "source": [
    "# Обращение симметрично положительно определенной матрицы методом квадратного корня "
   ]
  },
  {
   "cell_type": "code",
   "execution_count": 248,
   "metadata": {},
   "outputs": [],
   "source": [
    "A = np.array([[0.1399, 0.5513, 0.9627, 1.3741],\n",
    "             [0.5513, 10.8634, 15.7276, 20.5918],\n",
    "             [0.9627, 15.7276, 53.5043, 66.8627],\n",
    "             [1.3741, 20.5918, 66.8627, 149.3963]])"
   ]
  },
  {
   "cell_type": "code",
   "execution_count": 308,
   "metadata": {},
   "outputs": [],
   "source": [
    "A = np.array([[1, 1, 1], [1, 2, 2], [1, 2, 3]])"
   ]
  },
  {
   "cell_type": "code",
   "execution_count": 309,
   "metadata": {},
   "outputs": [],
   "source": [
    "def L(A):\n",
    "    L = np.ndarray(A.shape)\n",
    "    n = A.shape[0]\n",
    "    for i in range(n):\n",
    "        for j in range(n):\n",
    "            if i == j:\n",
    "                buf = A[i][i]\n",
    "                for k in range(i):\n",
    "                    buf -= L[i][k] ** 2\n",
    "                L[i][i] = buf ** 0.5\n",
    "            elif j < i:\n",
    "                buf = A[i][j] / L[j][j]\n",
    "                for k in range(j):\n",
    "                    buf -= L[i][k] * L[j][k] / L[j][j]\n",
    "                L[i][j] = buf\n",
    "            else:\n",
    "                L[i][j] = 0\n",
    "    return L"
   ]
  },
  {
   "cell_type": "code",
   "execution_count": 338,
   "metadata": {},
   "outputs": [],
   "source": [
    "def inverse_matrix(A):\n",
    "    l = L(A)\n",
    "    P = np.zeros(A.shape)\n",
    "    n = A.shape[0]\n",
    "    for i in range(n):\n",
    "        P[i][i] = 1 / l[i][i]\n",
    "        for j in range(i+1, n):\n",
    "            buf = 0\n",
    "            for k in range(j):\n",
    "                print(j, k)\n",
    "                buf += l[j][k] * P[k][i]\n",
    "            P[i][j] = - buf / l[j][j]\n",
    "\n",
    "    return P"
   ]
  },
  {
   "cell_type": "code",
   "execution_count": 339,
   "metadata": {},
   "outputs": [
    {
     "name": "stdout",
     "output_type": "stream",
     "text": [
      "1 0\n",
      "2 0\n",
      "2 1\n",
      "2 0\n",
      "2 1\n"
     ]
    }
   ],
   "source": [
    "ans = inverse_matrix(A.copy())"
   ]
  },
  {
   "cell_type": "code",
   "execution_count": 325,
   "metadata": {},
   "outputs": [
    {
     "data": {
      "text/plain": [
       "array([[-1.,  3.,  2.],\n",
       "       [-3.,  6.,  4.],\n",
       "       [-4.,  7.,  6.]])"
      ]
     },
     "execution_count": 325,
     "metadata": {},
     "output_type": "execute_result"
    }
   ],
   "source": [
    "A @ ans"
   ]
  },
  {
   "cell_type": "code",
   "execution_count": 329,
   "metadata": {},
   "outputs": [
    {
     "data": {
      "text/plain": [
       "array([[ 1., -1., -1.],\n",
       "       [ 0.,  1., -0.],\n",
       "       [ 0.,  0.,  1.]])"
      ]
     },
     "execution_count": 329,
     "metadata": {},
     "output_type": "execute_result"
    }
   ],
   "source": [
    "ans"
   ]
  },
  {
   "cell_type": "code",
   "execution_count": 330,
   "metadata": {},
   "outputs": [
    {
     "data": {
      "text/plain": [
       "array([[1., 0., 0.],\n",
       "       [1., 1., 0.],\n",
       "       [1., 1., 1.]])"
      ]
     },
     "execution_count": 330,
     "metadata": {},
     "output_type": "execute_result"
    }
   ],
   "source": [
    "l = L(A)\n",
    "l"
   ]
  },
  {
   "cell_type": "code",
   "execution_count": 333,
   "metadata": {},
   "outputs": [
    {
     "data": {
      "text/plain": [
       "array([[-1., -2., -1.],\n",
       "       [ 1.,  1.,  0.],\n",
       "       [ 1.,  1.,  1.]])"
      ]
     },
     "execution_count": 333,
     "metadata": {},
     "output_type": "execute_result"
    }
   ],
   "source": [
    "ans @ l"
   ]
  },
  {
   "cell_type": "code",
   "execution_count": 332,
   "metadata": {},
   "outputs": [
    {
     "data": {
      "text/plain": [
       "array([[ 1.,  0.,  0.],\n",
       "       [-1.,  1.,  0.],\n",
       "       [ 0., -1.,  1.]])"
      ]
     },
     "execution_count": 332,
     "metadata": {},
     "output_type": "execute_result"
    }
   ],
   "source": [
    "np.linalg.inv(l)"
   ]
  },
  {
   "cell_type": "code",
   "execution_count": null,
   "metadata": {},
   "outputs": [],
   "source": []
  }
 ],
 "metadata": {
  "kernelspec": {
   "display_name": "Python 3",
   "language": "python",
   "name": "python3"
  },
  "language_info": {
   "codemirror_mode": {
    "name": "ipython",
    "version": 3
   },
   "file_extension": ".py",
   "mimetype": "text/x-python",
   "name": "python",
   "nbconvert_exporter": "python",
   "pygments_lexer": "ipython3",
   "version": "3.6.6"
  }
 },
 "nbformat": 4,
 "nbformat_minor": 2
}
