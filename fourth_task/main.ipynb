{
 "cells": [
  {
   "cell_type": "markdown",
   "metadata": {},
   "source": [
    "# Решение краевой задачи для линейного дифференциального уравнения второго порядка методом прогнки "
   ]
  },
  {
   "cell_type": "markdown",
   "metadata": {},
   "source": [
    "Задано уравнение и краевые условие \n",
    "\n",
    "<center> ${y''+p(x)y'+q(x)y=f(x)}$</center>\n",
    "<center> ${c_1y(a)+c_2y'(a)=c}$ ${d_1y(b)+d_2y'(b)=d}$</center>\n",
    "\n",
    "Для него мы находим:\n",
    "\n",
    "<center>${\\beta_0=c_1h-c_2}$, ${\\gamma_0=c_2}$, ${\\varphi_0=hc}$</center>\n",
    "<center>${\\varphi_i=f_i*h^2}$, ${\\alpha_i = 1 - \\frac{1}{2}p_ih_i}$, ${\\beta_i=d_ih^2-2}$, ${\\gamma_i=1+\\frac{1}{2}p_ih}$, ${i=1,...,n-1}$</center>\n",
    "<center>${\\alpha_n=-d_2}$, ${\\beta_n=hq_1+d_2}$, ${\\varphi_n=hd}$</center>\n",
    "\n",
    "Решение ищем в виде\n",
    "\n",
    "<center>${y_i=u_i+v_iy_{i+1}}$</center>\n",
    "\n",
    "Где\n",
    "\n",
    "<center>${v_i=-\\frac{\\gamma_i}{\\beta_i+\\alpha_iv_{i-1}}}$, ${u_i = \\frac{\\varphi_i-\\alpha_iu_{i-1}}{\\beta_i+\\alpha_iv_i}}$</center>"
   ]
  },
  {
   "cell_type": "code",
   "execution_count": 2,
   "metadata": {},
   "outputs": [],
   "source": [
    "def p(x):\n",
    "    return -(x - 1) * (x - 2)"
   ]
  },
  {
   "cell_type": "code",
   "execution_count": 3,
   "metadata": {},
   "outputs": [],
   "source": [
    "def q(x):\n",
    "    return np.cos(x)"
   ]
  },
  {
   "cell_type": "code",
   "execution_count": 4,
   "metadata": {},
   "outputs": [],
   "source": [
    "def f(x):\n",
    "    return np.cos(x) ** 2"
   ]
  },
  {
   "cell_type": "code",
   "execution_count": 5,
   "metadata": {},
   "outputs": [],
   "source": [
    "def prog(p, q, f, a, b, c1, c2, c, d1, d2, d, n):\n",
    "    h = (b - a) / n\n",
    "    u = np.zeros(n + 1)\n",
    "    v = np.zeros(n + 1)\n",
    "    x = np.zeros(n + 1)\n",
    "    y = np.zeros(n + 1)\n",
    "    alp = np.zeros(n + 1)\n",
    "    bet = np.zeros(n + 1)\n",
    "    gam = np.zeros(n + 1)\n",
    "    phi = np.zeros(n + 1)\n",
    "    \n",
    "    x[0] = a\n",
    "    i = 1\n",
    "    u[0] = c * h / (c1 * h - c2)\n",
    "    v[0] = -c2 / (c1 * h - c2)\n",
    "    \n",
    "    while True:\n",
    "        x[i] = x[i - 1] + h\n",
    "        alp[i] = 1 - p(x[i]) * h / 2\n",
    "        bet[i] = h ** 2 * q(x[i]) - 2\n",
    "        gam[i] = 1 + p(x[i]) * h / 2\n",
    "        phi[i] = (h ** 2) * f(x[i])\n",
    "        v[i] = -gam[i] / (bet[i] + alp[i] * v[i-1])\n",
    "        u[i] = (phi[i] - alp[i] * u[i-1]) / (bet[i] + alp[i]*v[i])\n",
    "        if i == n-1:\n",
    "            break\n",
    "        i += 1\n",
    "    x[n] = b\n",
    "    alp[n] = -d2\n",
    "    bet[n] = h * d1 + d2\n",
    "    phi[n] = h * d\n",
    "    v[n] = 0\n",
    "    u[n] = (phi[n] - alp[n] * u[n-1]) / bet[n]\n",
    "    y[n] = u[n]\n",
    "    i = n - 1\n",
    "    while True:\n",
    "        y[i] = u[i] + y[i+1]*v[i]\n",
    "        if i == 0:\n",
    "            break\n",
    "        i -= 1\n",
    "    return {'x': x, 'y': y}"
   ]
  },
  {
   "cell_type": "code",
   "execution_count": 6,
   "metadata": {},
   "outputs": [
    {
     "data": {
      "image/png": "[encoded data removed]",
      "text/plain": [
       "<Figure size 432x288 with 1 Axes>"
      ]
     },
     "metadata": {
      "needs_background": "light"
     },
     "output_type": "display_data"
    }
   ],
   "source": [
    "a = 1\n",
    "b = 2\n",
    "c1 = -1\n",
    "c2 = 0.3\n",
    "c = 0\n",
    "d1 = 0.17\n",
    "d2 = 0.19\n",
    "d = 0\n",
    "n = 500\n",
    "\n",
    "\n",
    "ans = prog(p, q, f, a, b, c1, c2, c, d1, d2, d, n)\n",
    "plt.plot(ans['x'], ans['y'])\n",
    "plt.show()"
   ]
  },
  {
   "cell_type": "markdown",
   "metadata": {},
   "source": [
    "# Решение нелинейной системы методом простых итераций "
   ]
  },
  {
   "cell_type": "markdown",
   "metadata": {},
   "source": [
    "Ну это методо простых итераций, работает так же как и все другие методы простых итераций "
   ]
  },
  {
   "cell_type": "code",
   "execution_count": 7,
   "metadata": {},
   "outputs": [],
   "source": [
    "def F(x):\n",
    "    return np.array([np.sin(x[1] + 1) - 1.2, 1 - np.cos(x[0]) / 2])"
   ]
  },
  {
   "cell_type": "code",
   "execution_count": 8,
   "metadata": {},
   "outputs": [],
   "source": [
    "def simple_iter(F, x0, eps=1e-6):\n",
    "    k = 0\n",
    "    while True:\n",
    "        x = F(x0)\n",
    "        if (np.linalg.norm(x - x0) < eps):\n",
    "            return x0, k\n",
    "        x0 = x\n",
    "        k += 1"
   ]
  },
  {
   "cell_type": "code",
   "execution_count": 9,
   "metadata": {},
   "outputs": [
    {
     "data": {
      "text/plain": [
       "6"
      ]
     },
     "execution_count": 9,
     "metadata": {},
     "output_type": "execute_result"
    }
   ],
   "source": [
    "x0 = np.array([0, 0])\n",
    "ans = simple_iter(F, x0)\n",
    "ans[1]"
   ]
  },
  {
   "cell_type": "code",
   "execution_count": 10,
   "metadata": {},
   "outputs": [
    {
     "data": {
      "text/plain": [
       "[6.434182142633915e-08, 1.305532745909943e-06]"
      ]
     },
     "execution_count": 10,
     "metadata": {},
     "output_type": "execute_result"
    }
   ],
   "source": [
    "x = ans[0]\n",
    "[np.sin(x[1] + 1) - x[0] - 1.2, 2 * x[1] + np.cos(x[0]) - 2]"
   ]
  },
  {
   "cell_type": "markdown",
   "metadata": {},
   "source": [
    "# Решение систем линейных уравнений методом квадратных корней "
   ]
  },
  {
   "cell_type": "markdown",
   "metadata": {},
   "source": [
    "Во время прямого хода находят элементы g:\n",
    "\n",
    "<center>${g_{11} = \\sqrt{a_{11}}}$ ${g_{12} = \\frac{a_{11}}{g_{11}}}$ ${g_{13} = \\frac{a_{13}}{g_{11}}}$</center>\n",
    "\n",
    "<center> ${g_{22} = \\sqrt{a_{22}-g_{12}^2}}$ ${g_{23} = \\frac{a_{23} - g_{12}g_{13}}{g_{23}}}$</center>\n",
    "\n",
    "<center> ${g_{23} = \\sqrt{a_{33} - g_{13}^2 - g_{23}^2}}$ </center>\n",
    "\n",
    "Затем находим y:\n",
    "\n",
    "<center> ${y_1 = \\frac{b_1}{g_{11}}}$ ${y_2 = \\frac{b_2-g_{12}y_1}{g_{22}}}$ ${y_3 = \\frac{b_3-g_{13}y_1-g_{23}y_2}{g_{33}}}$</center>\n",
    "\n",
    "В конце находим x:\n",
    "\n",
    "<center> ${x_3=\\frac{y_3}{g_{33}}}$ ${x_2 = \\frac{y_2-g_{23}x_3}{g_{22}}}$ ${x_1 = \\frac{y_1-g_{12}x_2-g_{13}x_3}{g_{11}}}$</center>"
   ]
  },
  {
   "cell_type": "code",
   "execution_count": 35,
   "metadata": {},
   "outputs": [],
   "source": [
    "A = np.array([[2.47, 0.65, -1.88], [1.34, 1.17, 2.54], [0.86, -1.73, -1.08]])\n",
    "b = np.array([1.24, 2.35, 3.15])\n",
    "G = np.array([[0.0, 0.0, 0.0],[0.0, 0.0, 0.0],[0.0, 0.0, 0.0]])\n",
    "S = np.array([0, 0, 0])\n",
    "Ss = np.array([0, 0, 0])\n",
    "x = np.array([0, 0, 0])\n",
    "y = np.array([0, 0, 0])"
   ]
  },
  {
   "cell_type": "code",
   "execution_count": 36,
   "metadata": {},
   "outputs": [],
   "source": [
    "G[0][0] = math.sqrt(abs(A[0][0]))\n",
    "G[0][1] = A[0][1] / G[0][0]\n",
    "G[0][2] = A[0][2] / G[0][0]\n",
    "G[1][1] = math.sqrt(abs(A[1][1] - G[0][1] ** 2))\n",
    "G[1][2] = (A[1][2] - G[0][1] * G[0][2]) / G[1][1]\n",
    "G[2][2] = math.sqrt(abs(A[2][2] - G[0][2] ** 2 - G[1][2] ** 2))\n",
    "y[0] = b[0] / G[0][0]\n",
    "y[1] = (b[1] - G[0][1] * y[0]) / G[1][1]\n",
    "y[2] = (b[2] - G[0][2] * y[0] - G[1][2] * y[1]) / G[2][2]\n",
    "x[2] = y[2] / G[2][2]\n",
    "x[1] = (y[1] - G[1][2] * x[2]) / G[1][1]\n",
    "x[0] = (y[0] - G[0][1] * x[1] - G[0][2] * x[2]) / G[0][0]\n",
    "ans = x"
   ]
  },
  {
   "cell_type": "code",
   "execution_count": 32,
   "metadata": {},
   "outputs": [
    {
     "data": {
      "text/plain": [
       "array([2.55172414e+00, 1.64864865e+00, 1.80713722e-16])"
      ]
     },
     "execution_count": 32,
     "metadata": {},
     "output_type": "execute_result"
    }
   ],
   "source": [
    "ans"
   ]
  },
  {
   "cell_type": "markdown",
   "metadata": {},
   "source": [
    "# Решение системы линейных уравнений методом главных элементов "
   ]
  },
  {
   "cell_type": "markdown",
   "metadata": {},
   "source": [
    "На каждом этапе исключения неизвестного выбирают главный элемент. Наибольший по\n",
    "модулю коэффициент при неизвестных, затем находят значения ${m_i}$, равные частному от\n",
    "деления элементов столбца, содержащих главный элемент, на главный элемент, взятый с\n",
    "противоположным знаком.\n",
    "Для получения элементов следующего этапа прибавляют главную строку (строку,\n",
    "содержащую главный элемент) к остальным строкам, умножая её на соответствующее\n",
    "значение ${m}$"
   ]
  },
  {
   "cell_type": "code",
   "execution_count": 23,
   "metadata": {},
   "outputs": [],
   "source": [
    "A1 = [[1, 0, 0], [0, 1, 0], [0, 0, 1]]\n",
    "A = [[0.62, -0.44, -0.86], [0.83, 0.42, -0.56], [0.58, -0.37, -0.62]]\n",
    "x = [0, 0, 0]\n",
    "b = [0.68, 1.24, 0.87]\n",
    "b1 = [0.68, 1.24, 0.87]"
   ]
  },
  {
   "cell_type": "code",
   "execution_count": 28,
   "metadata": {},
   "outputs": [],
   "source": [
    "for i in range(3):\n",
    "    z = max(A[i][0], A[i][1], A[i][2])\n",
    "    A[i][0] = A[i][0] / z\n",
    "    A[i][1] = A[i][1] / z\n",
    "    A[i][2] = A[i][2] / z\n",
    "    b[i] = b[i] /z\n",
    "i = 0\n",
    "for k in range(3):\n",
    "    for i in range(k + 1):\n",
    "        j = k\n",
    "        for j in range(3):\n",
    "            A1[i][j] = A[i][j] - A[k][j] * A[i][k] / A[k][k]\n",
    "            b1[i] = b[i] - b[k] * A[i][k] / A[k][k]\n",
    "    i = k + 1\n",
    "    for i in range(2):\n",
    "        j = k\n",
    "        for j in range(2):\n",
    "            A[i][j] = A1[i][j]\n",
    "            b[i] = b1[i]\n",
    "for i in reversed(range(3)):\n",
    "    S = 0\n",
    "    for j in reversed(range(3)):\n",
    "        S = S + x[j] * A[i][j]\n",
    "    x[i] = (b[i] - S) / A[i][i]\n",
    "ans = x"
   ]
  },
  {
   "cell_type": "code",
   "execution_count": 30,
   "metadata": {},
   "outputs": [
    {
     "data": {
      "text/plain": [
       "array([2.55172414e+00, 1.64864865e+00, 1.80713722e-16])"
      ]
     },
     "execution_count": 30,
     "metadata": {},
     "output_type": "execute_result"
    }
   ],
   "source": [
    "ans"
   ]
  },
  {
   "cell_type": "code",
   "execution_count": null,
   "metadata": {},
   "outputs": [],
   "source": []
  }
 ],
 "metadata": {
  "kernelspec": {
   "display_name": "Python 3",
   "language": "python",
   "name": "python3"
  },
  "language_info": {
   "codemirror_mode": {
    "name": "ipython",
    "version": 3
   },
   "file_extension": ".py",
   "mimetype": "text/x-python",
   "name": "python",
   "nbconvert_exporter": "python",
   "pygments_lexer": "ipython3",
   "version": "3.6.6"
  }
 },
 "nbformat": 4,
 "nbformat_minor": 2
}
