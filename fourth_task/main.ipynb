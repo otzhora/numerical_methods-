{
 "cells": [
  {
   "cell_type": "code",
   "execution_count": 97,
   "metadata": {},
   "outputs": [],
   "source": [
    "import numpy as np\n",
    "from matplotlib import pyplot as plt"
   ]
  },
  {
   "cell_type": "markdown",
   "metadata": {},
   "source": [
    "# Решение краевой задачи для линейного дифференциального уравнения второго порядка методом прогнки "
   ]
  },
  {
   "cell_type": "code",
   "execution_count": 3,
   "metadata": {},
   "outputs": [],
   "source": [
    "def p(x):\n",
    "    return -(x - 1) * (x - 2)"
   ]
  },
  {
   "cell_type": "code",
   "execution_count": 4,
   "metadata": {},
   "outputs": [],
   "source": [
    "def q(x):\n",
    "    return np.cos(x)"
   ]
  },
  {
   "cell_type": "code",
   "execution_count": 5,
   "metadata": {},
   "outputs": [],
   "source": [
    "def f(x):\n",
    "    return np.cos(x) ** 2"
   ]
  },
  {
   "cell_type": "code",
   "execution_count": 51,
   "metadata": {},
   "outputs": [],
   "source": [
    "def prog(p, q, f, a, b, c1, c2, c, d1, d2, d, n):\n",
    "    h = (b - a) / n\n",
    "    u = np.zeros(n + 1)\n",
    "    v = np.zeros(n + 1)\n",
    "    x = np.zeros(n + 1)\n",
    "    y = np.zeros(n + 1)\n",
    "    alp = np.zeros(n + 1)\n",
    "    bet = np.zeros(n + 1)\n",
    "    gam = np.zeros(n + 1)\n",
    "    phi = np.zeros(n + 1)\n",
    "    \n",
    "    x[0] = a\n",
    "    i = 1\n",
    "    u[0] = c * h / (c1 * h - c2)\n",
    "    v[0] = -c2 / (c1 * h - c2)\n",
    "    \n",
    "    while True:\n",
    "        x[i] = x[i - 1] + h\n",
    "        alp[i] = 1 - p(x[i]) * h / 2\n",
    "        bet[i] = h ** 2 * q(x[i]) - 2\n",
    "        gam[i] = 1 + p(x[i]) * h / 2\n",
    "        phi[i] = (h ** 2) * f(x[i])\n",
    "        v[i] = -gam[i] / (bet[i] + alp[i] * v[i-1])\n",
    "        u[i] = (phi[i] - alp[i] * u[i-1]) / (bet[i] + alp[i]*v[i])\n",
    "        if i == n-1:\n",
    "            break\n",
    "        i += 1\n",
    "    x[n] = b\n",
    "    alp[n] = -d2\n",
    "    bet[n] = h * d1 + d2\n",
    "    phi[n] = h * d\n",
    "    v[n] = 0\n",
    "    u[n] = (phi[n] - alp[n] * u[n-1]) / bet[n]\n",
    "    y[n] = u[n]\n",
    "    i = n - 1\n",
    "    while True:\n",
    "        y[i] = u[i] + y[i+1]*v[i]\n",
    "        if i == 0:\n",
    "            break\n",
    "        i -= 1\n",
    "    return {'x': x, 'y': y}"
   ]
  },
  {
   "cell_type": "code",
   "execution_count": 56,
   "metadata": {},
   "outputs": [
    {
     "data": {
      "image/png": "[encoded data removed]",
      "text/plain": [
       "<Figure size 432x288 with 1 Axes>"
      ]
     },
     "metadata": {
      "needs_background": "light"
     },
     "output_type": "display_data"
    }
   ],
   "source": [
    "a = 1\n",
    "b = 2\n",
    "c1 = -1\n",
    "c2 = 0.3\n",
    "c = 0\n",
    "d1 = 0.17\n",
    "d2 = 0.19\n",
    "d = 0\n",
    "n = 500\n",
    "\n",
    "\n",
    "ans = prog(p, q, f, a, b, c1, c2, c, d1, d2, d, n)\n",
    "plt.plot(ans['x'], ans['y'])\n",
    "plt.show()"
   ]
  },
  {
   "cell_type": "markdown",
   "metadata": {},
   "source": [
    "# Решение нелинейной системы методом простых итераций "
   ]
  },
  {
   "cell_type": "code",
   "execution_count": 69,
   "metadata": {},
   "outputs": [],
   "source": [
    "def F(x):\n",
    "    return np.array([np.sin(x[1] + 1) - 1.2, 1 - np.cos(x[0]) / 2])"
   ]
  },
  {
   "cell_type": "code",
   "execution_count": 80,
   "metadata": {},
   "outputs": [],
   "source": [
    "def simple_iter(F, x0, eps=1e-6):\n",
    "    k = 0\n",
    "    while True:\n",
    "        x = F(x0)\n",
    "        if (np.linalg.norm(x - x0) < eps):\n",
    "            return x0, k\n",
    "        x0 = x\n",
    "        k += 1"
   ]
  },
  {
   "cell_type": "code",
   "execution_count": 81,
   "metadata": {},
   "outputs": [
    {
     "data": {
      "text/plain": [
       "6"
      ]
     },
     "execution_count": 81,
     "metadata": {},
     "output_type": "execute_result"
    }
   ],
   "source": [
    "x0 = np.array([0, 0])\n",
    "ans = simple_iter(F, x0)\n",
    "ans[1]"
   ]
  },
  {
   "cell_type": "code",
   "execution_count": 82,
   "metadata": {},
   "outputs": [
    {
     "data": {
      "text/plain": [
       "[6.434182142633915e-08, 1.305532745909943e-06]"
      ]
     },
     "execution_count": 82,
     "metadata": {},
     "output_type": "execute_result"
    }
   ],
   "source": [
    "x = ans[0]\n",
    "[np.sin(x[1] + 1) - x[0] - 1.2, 2 * x[1] + np.cos(x[0]) - 2]"
   ]
  },
  {
   "cell_type": "markdown",
   "metadata": {},
   "source": [
    "# Решение слау методом главных компонент"
   ]
  },
  {
   "cell_type": "code",
   "execution_count": 137,
   "metadata": {},
   "outputs": [],
   "source": [
    "A = np.array([[0.62, -0.44, -0.86],[0.83, 0.42, -0.56],[0.58, -0.37, -0.62]])\n",
    "b = np.array([0.68, 1.24, 0.87])"
   ]
  },
  {
   "cell_type": "code",
   "execution_count": 138,
   "metadata": {},
   "outputs": [],
   "source": [
    "def glavn(a, b):\n",
    "    n = a.shape[0]\n",
    "    for _ in range(1):\n",
    "        # вычисляем главгный элемент и строку \n",
    "        print('------')\n",
    "        print(a)\n",
    "        max_index = np.unravel_index(np.argmax(np.absolute(a), axis=None), a.shape)\n",
    "        print(max_index)\n",
    "        a[[0, max_index[0]]] = a[[max_index[0], 0]]\n",
    "        print('------')\n",
    "        print(a)\n",
    "        # вычисляем множители \n",
    "        \n",
    "        # вычитаем \n",
    "        \n",
    "        # пере"
   ]
  },
  {
   "cell_type": "code",
   "execution_count": 139,
   "metadata": {},
   "outputs": [
    {
     "name": "stdout",
     "output_type": "stream",
     "text": [
      "------\n",
      "[[ 0.62 -0.44 -0.86]\n",
      " [ 0.83  0.42 -0.56]\n",
      " [ 0.58 -0.37 -0.62]]\n",
      "(0, 2)\n",
      "------\n",
      "[[ 0.62 -0.44 -0.86]\n",
      " [ 0.83  0.42 -0.56]\n",
      " [ 0.58 -0.37 -0.62]]\n"
     ]
    }
   ],
   "source": [
    "ans = glavn(A.copy(), b.copy())"
   ]
  },
  {
   "cell_type": "code",
   "execution_count": 121,
   "metadata": {},
   "outputs": [
    {
     "data": {
      "text/plain": [
       "array([[-0.1819103 , -0.2286747 , -0.56      ],\n",
       "       [-0.75373494, -0.44168675, -0.86      ],\n",
       "       [ 0.58      , -0.37      , -0.62      ]])"
      ]
     },
     "execution_count": 121,
     "metadata": {},
     "output_type": "execute_result"
    }
   ],
   "source": [
    "ans"
   ]
  },
  {
   "cell_type": "code",
   "execution_count": null,
   "metadata": {},
   "outputs": [],
   "source": []
  }
 ],
 "metadata": {
  "kernelspec": {
   "display_name": "Python 3",
   "language": "python",
   "name": "python3"
  },
  "language_info": {
   "codemirror_mode": {
    "name": "ipython",
    "version": 3
   },
   "file_extension": ".py",
   "mimetype": "text/x-python",
   "name": "python",
   "nbconvert_exporter": "python",
   "pygments_lexer": "ipython3",
   "version": "3.7.1"
  }
 },
 "nbformat": 4,
 "nbformat_minor": 2
}
