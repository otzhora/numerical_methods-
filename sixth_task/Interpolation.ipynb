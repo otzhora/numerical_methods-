{
  "cells": [
    {
      "metadata": {
        "id": "1EPTWwCOtW2g",
        "colab_type": "code",
        "colab": {},
        "trusted": true
      },
      "cell_type": "code",
      "source": "import numpy as np\nimport matplotlib\n%matplotlib inline\n\nfrom matplotlib import pyplot as plt",
      "execution_count": 5,
      "outputs": []
    },
    {
      "metadata": {
        "id": "fnKOD3sMtW2z",
        "colab_type": "code",
        "colab": {},
        "trusted": true
      },
      "cell_type": "code",
      "source": "def f(x):\n    return np.power(x, 2) + 4 * np.sin(x) - 2",
      "execution_count": 7,
      "outputs": []
    },
    {
      "metadata": {
        "id": "BmIJd2iitW23",
        "colab_type": "code",
        "colab": {},
        "trusted": true
      },
      "cell_type": "code",
      "source": "a = 10",
      "execution_count": 8,
      "outputs": []
    },
    {
      "metadata": {
        "id": "o3LpCjJAtW28",
        "colab_type": "code",
        "colab": {},
        "trusted": true
      },
      "cell_type": "code",
      "source": "x = np.arange(-a, a, 0.001, np.float)",
      "execution_count": 9,
      "outputs": []
    },
    {
      "metadata": {
        "id": "h3LzkxQltW3B",
        "colab_type": "code",
        "colab": {
          "base_uri": "https://localhost:8080/",
          "height": 283
        },
        "outputId": "48655907-bb2c-40ac-d179-7270cb3d5b0e",
        "trusted": true
      },
      "cell_type": "code",
      "source": "plt.plot(x, f(x))",
      "execution_count": 10,
      "outputs": [
        {
          "output_type": "execute_result",
          "execution_count": 10,
          "data": {
            "text/plain": "[<matplotlib.lines.Line2D at 0x7f547cd78588>]"
          },
          "metadata": {}
        },
        {
          "output_type": "display_data",
          "data": {
            "image/png": "[encoded data removed]",
            "text/plain": "<matplotlib.figure.Figure at 0x7f547cdb75f8>"
          },
          "metadata": {}
        }
      ]
    }
  ],
  "metadata": {
    "kernelspec": {
      "name": "python3",
      "display_name": "Python 3",
      "language": "python"
    },
    "language_info": {
      "mimetype": "text/x-python",
      "nbconvert_exporter": "python",
      "name": "python",
      "file_extension": ".py",
      "version": "3.5.4",
      "pygments_lexer": "ipython3",
      "codemirror_mode": {
        "version": 3,
        "name": "ipython"
      }
    },
    "colab": {
      "name": "Interpolation.ipynb",
      "provenance": []
    }
  },
  "nbformat": 4,
  "nbformat_minor": 1
}