{
 "cells": [
  {
   "cell_type": "code",
   "execution_count": 358,
   "metadata": {},
   "outputs": [],
   "source": [
    "import numpy as np"
   ]
  },
  {
   "cell_type": "markdown",
   "metadata": {},
   "source": [
    "# Генерация случайной матрицы "
   ]
  },
  {
   "cell_type": "code",
   "execution_count": 359,
   "metadata": {},
   "outputs": [],
   "source": [
    "def is_pos_def(x):\n",
    "    return np.all(np.linalg.eigvals(x) > 0)"
   ]
  },
  {
   "cell_type": "code",
   "execution_count": 360,
   "metadata": {},
   "outputs": [],
   "source": [
    "n = 3 # size \n",
    "\n",
    "A = np.random.rand(n, n)\n",
    "A = A@A.T\n",
    "\n",
    "while not is_pos_def(A):\n",
    "    A = np.random.rand(n, n)\n",
    "    A = A@A.T\n",
    "b = np.random.rand(n, 1)\n",
    "\n",
    "eps = 1e-6 # precision "
   ]
  },
  {
   "cell_type": "code",
   "execution_count": 361,
   "metadata": {},
   "outputs": [
    {
     "data": {
      "text/plain": [
       "(array([[0.74814869, 0.56994888, 0.1542728 ],\n",
       "        [0.56994888, 0.70861236, 0.40013508],\n",
       "        [0.1542728 , 0.40013508, 0.39726961]]), array([[0.18355433],\n",
       "        [0.48214387],\n",
       "        [0.34350191]]))"
      ]
     },
     "execution_count": 361,
     "metadata": {},
     "output_type": "execute_result"
    }
   ],
   "source": [
    "A, b"
   ]
  },
  {
   "cell_type": "code",
   "execution_count": 362,
   "metadata": {},
   "outputs": [],
   "source": [
    "def f(x):\n",
    "    return np.asscalar(1/2*x.T@A@x + b.T@x)"
   ]
  },
  {
   "cell_type": "markdown",
   "metadata": {},
   "source": [
    "# Метод наискорейшего спуска "
   ]
  },
  {
   "cell_type": "code",
   "execution_count": 363,
   "metadata": {},
   "outputs": [],
   "source": [
    "x = b # init approximation \n",
    "i = 0 # count \n",
    "\n",
    "while True:\n",
    "    q = A@x + b # grad \n",
    "    \n",
    "    mu = q.T @ (A@x + b) / (q.T @ A @ q)\n",
    "    \n",
    "    x_old = x\n",
    "    x = x - np.asscalar(mu) * q\n",
    "    \n",
    "    i += 1\n",
    "    if(np.linalg.norm(x - x_old) < eps or i > 1000000):\n",
    "        break\n",
    "\n",
    "x_sd, i_sd = x, i"
   ]
  },
  {
   "cell_type": "code",
   "execution_count": 364,
   "metadata": {},
   "outputs": [
    {
     "data": {
      "text/plain": [
       "(array([[ 1.06923169],\n",
       "        [-1.89608906],\n",
       "        [ 0.62988992]]), 181)"
      ]
     },
     "execution_count": 364,
     "metadata": {},
     "output_type": "execute_result"
    }
   ],
   "source": [
    "x_sd, i_sd"
   ]
  },
  {
   "cell_type": "code",
   "execution_count": 365,
   "metadata": {},
   "outputs": [
    {
     "data": {
      "text/plain": [
       "-0.25077907325830495"
      ]
     },
     "execution_count": 365,
     "metadata": {},
     "output_type": "execute_result"
    }
   ],
   "source": [
    "f(x)"
   ]
  },
  {
   "cell_type": "markdown",
   "metadata": {},
   "source": [
    "# Покоординатный спуск "
   ]
  },
  {
   "cell_type": "markdown",
   "metadata": {},
   "source": [
    "E - вспомогательная матрца, оттуда мы будем брать орты пространства "
   ]
  },
  {
   "cell_type": "code",
   "execution_count": 366,
   "metadata": {},
   "outputs": [
    {
     "data": {
      "text/plain": [
       "matrix([[1., 0., 0.]])"
      ]
     },
     "execution_count": 366,
     "metadata": {},
     "output_type": "execute_result"
    }
   ],
   "source": [
    "E = np.eye(n) \n",
    "E = np.matrix(E)\n",
    "E[0]"
   ]
  },
  {
   "cell_type": "code",
   "execution_count": 367,
   "metadata": {},
   "outputs": [],
   "source": [
    "x = b\n",
    "i = 0\n",
    "\n",
    "while True: \n",
    "    q = E[i % n].T\n",
    "    mu = q.T @ (A@x + b) / (q.T @ A @ q)\n",
    "    \n",
    "    x_old = x\n",
    "    x = x - np.asscalar(mu) * q\n",
    "    \n",
    "    i += 1\n",
    "    if(np.linalg.norm(x - x_old) < eps or i > 1000000):\n",
    "        break\n",
    "        \n",
    "x_coord, i_coord = x, i"
   ]
  },
  {
   "cell_type": "code",
   "execution_count": 368,
   "metadata": {},
   "outputs": [
    {
     "data": {
      "text/plain": [
       "(matrix([[ 1.06922892],\n",
       "         [-1.8960841 ],\n",
       "         [ 0.62988727]]), 370)"
      ]
     },
     "execution_count": 368,
     "metadata": {},
     "output_type": "execute_result"
    }
   ],
   "source": [
    "x_coord, i_coord"
   ]
  },
  {
   "cell_type": "code",
   "execution_count": 369,
   "metadata": {},
   "outputs": [
    {
     "data": {
      "text/plain": [
       "-0.25077907325450266"
      ]
     },
     "execution_count": 369,
     "metadata": {},
     "output_type": "execute_result"
    }
   ],
   "source": [
    "f(x)"
   ]
  },
  {
   "cell_type": "markdown",
   "metadata": {},
   "source": [
    "# Точный метод (метод Гаусса) "
   ]
  },
  {
   "cell_type": "code",
   "execution_count": 370,
   "metadata": {},
   "outputs": [],
   "source": [
    "def gaus(A, b):\n",
    "    n = A.shape[0]\n",
    "    for i in range(n):\n",
    "        b[i] = b[i] / A[i][i]\n",
    "        A[i] = A[i] / A[i][i]\n",
    "        for j in range(i + 1, n):\n",
    "            b[j] = b[j] - A[j][i] * b[i]\n",
    "            A[j] = A[j] - A[j][i] * A[i]\n",
    "\n",
    "    for i in range(n - 1, -1, -1):\n",
    "        for j in range(i - 1, -1, -1):\n",
    "            b[j] -= b[i] * A[j][i]\n",
    "    return b"
   ]
  },
  {
   "cell_type": "code",
   "execution_count": 371,
   "metadata": {},
   "outputs": [],
   "source": [
    "x_pr = gaus(A.copy(), -b.copy())"
   ]
  },
  {
   "cell_type": "code",
   "execution_count": 372,
   "metadata": {},
   "outputs": [
    {
     "data": {
      "text/plain": [
       "array([[ 1.06923909],\n",
       "       [-1.89610086],\n",
       "       [ 0.62989981]])"
      ]
     },
     "execution_count": 372,
     "metadata": {},
     "output_type": "execute_result"
    }
   ],
   "source": [
    "x_pr"
   ]
  },
  {
   "cell_type": "code",
   "execution_count": 373,
   "metadata": {},
   "outputs": [
    {
     "data": {
      "text/plain": [
       "-0.25077907326237764"
      ]
     },
     "execution_count": 373,
     "metadata": {},
     "output_type": "execute_result"
    }
   ],
   "source": [
    "f(x_pr)"
   ]
  },
  {
   "cell_type": "markdown",
   "metadata": {},
   "source": [
    "# Сравнение методов "
   ]
  },
  {
   "cell_type": "markdown",
   "metadata": {},
   "source": [
    "## наискорейший спуск "
   ]
  },
  {
   "cell_type": "code",
   "execution_count": 374,
   "metadata": {},
   "outputs": [
    {
     "name": "stdout",
     "output_type": "stream",
     "text": [
      "Расхождение с точным ответом:  1.707979842110449e-05\n",
      "Количество шагов:  181\n"
     ]
    }
   ],
   "source": [
    "print(\"Расхождение с точным ответом: \", np.linalg.norm(x_sd - x_pr))\n",
    "print(\"Количество шагов: \", i_sd)"
   ]
  },
  {
   "cell_type": "markdown",
   "metadata": {},
   "source": [
    "## покоординатный спуск "
   ]
  },
  {
   "cell_type": "code",
   "execution_count": 375,
   "metadata": {},
   "outputs": [
    {
     "name": "stdout",
     "output_type": "stream",
     "text": [
      "Расхождение с точным ответом:  2.3270048377612103e-05\n",
      "Количество шагов:  370\n"
     ]
    }
   ],
   "source": [
    "print(\"Расхождение с точным ответом: \", np.linalg.norm(x_coord - x_pr))\n",
    "print(\"Количество шагов: \", i_coord)"
   ]
  },
  {
   "cell_type": "markdown",
   "metadata": {},
   "source": [
    "# Проверка необходимого условия минимума "
   ]
  },
  {
   "cell_type": "markdown",
   "metadata": {},
   "source": [
    "## точный метод"
   ]
  },
  {
   "cell_type": "code",
   "execution_count": 376,
   "metadata": {},
   "outputs": [
    {
     "name": "stdout",
     "output_type": "stream",
     "text": [
      "PASSED [[-1.11022302e-16]\n",
      " [ 1.66533454e-16]\n",
      " [ 5.55111512e-17]]\n"
     ]
    }
   ],
   "source": [
    "if(np.linalg.norm(A @ x_pr + b) < eps): \n",
    "    print(\"PASSED\", A @ x_pr + b)\n",
    "else: \n",
    "    print(\"NOT PASSED\", A @ x_pr + b)"
   ]
  },
  {
   "cell_type": "markdown",
   "metadata": {},
   "source": [
    "## наискорейший спуск "
   ]
  },
  {
   "cell_type": "code",
   "execution_count": 377,
   "metadata": {},
   "outputs": [
    {
     "name": "stdout",
     "output_type": "stream",
     "text": [
      "PASSED [[-3.41569383e-07]\n",
      " [ 1.82288585e-07]\n",
      " [-3.50540003e-07]]\n"
     ]
    }
   ],
   "source": [
    "if(np.linalg.norm(A @ x_sd + b) < eps): \n",
    "    print(\"PASSED\", A @ x_sd + b)\n",
    "else: \n",
    "    print(\"NOT PASSED\", A @ x_sd + b)"
   ]
  },
  {
   "cell_type": "markdown",
   "metadata": {},
   "source": [
    "## покоординатный спуск "
   ]
  },
  {
   "cell_type": "code",
   "execution_count": 378,
   "metadata": {},
   "outputs": [
    {
     "name": "stdout",
     "output_type": "stream",
     "text": [
      "PASSED [[-1.11022302e-16]\n",
      " [ 1.66533454e-16]\n",
      " [ 5.55111512e-17]]\n"
     ]
    }
   ],
   "source": [
    "if(np.linalg.norm(A @ x_pr + b) < eps): \n",
    "    print(\"PASSED\", A @ x_pr + b)\n",
    "else: \n",
    "    print(\"NOT PASSED\", A @ x_pr + b)"
   ]
  },
  {
   "cell_type": "code",
   "execution_count": null,
   "metadata": {},
   "outputs": [],
   "source": []
  }
 ],
 "metadata": {
  "kernelspec": {
   "display_name": "Python 3",
   "language": "python",
   "name": "python3"
  },
  "language_info": {
   "codemirror_mode": {
    "name": "ipython",
    "version": 3
   },
   "file_extension": ".py",
   "mimetype": "text/x-python",
   "name": "python",
   "nbconvert_exporter": "python",
   "pygments_lexer": "ipython3",
   "version": "3.7.1"
  }
 },
 "nbformat": 4,
 "nbformat_minor": 2
}
