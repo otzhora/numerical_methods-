{
  "nbformat": 4,
  "nbformat_minor": 0,
  "metadata": {
    "kernelspec": {
      "display_name": "Python 3",
      "language": "python",
      "name": "python3"
    },
    "language_info": {
      "codemirror_mode": {
        "name": "ipython",
        "version": 3
      },
      "file_extension": ".py",
      "mimetype": "text/x-python",
      "name": "python",
      "nbconvert_exporter": "python",
      "pygments_lexer": "ipython3",
      "version": "3.7.1"
    },
    "colab": {
      "name": "gds.ipynb",
      "provenance": []
    }
  },
  "cells": [
    {
      "cell_type": "code",
      "metadata": {
        "id": "8AZP5j7NBSxm",
        "colab_type": "code",
        "colab": {}
      },
      "source": [
        "import numpy as np"
      ],
      "execution_count": 0,
      "outputs": []
    },
    {
      "cell_type": "markdown",
      "metadata": {
        "id": "nUZmQ8jYBSxt",
        "colab_type": "text"
      },
      "source": [
        "# Генерация случайной матрицы "
      ]
    },
    {
      "cell_type": "code",
      "metadata": {
        "id": "IY7_vd2rBSxw",
        "colab_type": "code",
        "colab": {}
      },
      "source": [
        "def is_pos_def(x):\n",
        "    return np.all(np.linalg.eigvals(x) > 0)"
      ],
      "execution_count": 0,
      "outputs": []
    },
    {
      "cell_type": "code",
      "metadata": {
        "id": "_ZUcZ14FBSx2",
        "colab_type": "code",
        "colab": {}
      },
      "source": [
        "n = 3 # size \n",
        "\n",
        "A = np.random.rand(n, n)\n",
        "A = A@A.T\n",
        "\n",
        "while not is_pos_def(A):\n",
        "    A = np.random.rand(n, n)\n",
        "    A = A@A.T\n",
        "b = np.random.rand(n, 1)\n",
        "\n",
        "eps = 1e-6 # precision "
      ],
      "execution_count": 0,
      "outputs": []
    },
    {
      "cell_type": "code",
      "metadata": {
        "id": "DZh-mFr-BSx5",
        "colab_type": "code",
        "colab": {},
        "outputId": "4419139a-8f3b-46f0-d60f-8ae8146d0fe1"
      },
      "source": [
        "A, b"
      ],
      "execution_count": 0,
      "outputs": [
        {
          "output_type": "execute_result",
          "data": {
            "text/plain": [
              "(array([[0.74814869, 0.56994888, 0.1542728 ],\n",
              "        [0.56994888, 0.70861236, 0.40013508],\n",
              "        [0.1542728 , 0.40013508, 0.39726961]]), array([[0.18355433],\n",
              "        [0.48214387],\n",
              "        [0.34350191]]))"
            ]
          },
          "metadata": {
            "tags": []
          },
          "execution_count": 361
        }
      ]
    },
    {
      "cell_type": "code",
      "metadata": {
        "id": "SYZE0ti5BSx_",
        "colab_type": "code",
        "colab": {}
      },
      "source": [
        "def f(x):\n",
        "    return np.asscalar(1/2*x.T@A@x + b.T@x)"
      ],
      "execution_count": 0,
      "outputs": []
    },
    {
      "cell_type": "markdown",
      "metadata": {
        "id": "0rTgB5LQBSyB",
        "colab_type": "text"
      },
      "source": [
        "# Метод наискорейшего спуска "
      ]
    },
    {
      "cell_type": "code",
      "metadata": {
        "id": "PAJ_L8FfBSyB",
        "colab_type": "code",
        "colab": {}
      },
      "source": [
        "x = b # init approximation \n",
        "i = 0 # count \n",
        "\n",
        "while True:\n",
        "    q = A@x + b # grad \n",
        "    \n",
        "    mu = q.T @ (A@x + b) / (q.T @ A @ q)\n",
        "    \n",
        "    x_old = x\n",
        "    x = x - np.asscalar(mu) * q\n",
        "    \n",
        "    i += 1\n",
        "    if(np.linalg.norm(x - x_old) < eps or i > 1000000):\n",
        "        break\n",
        "\n",
        "x_sd, i_sd = x, i"
      ],
      "execution_count": 0,
      "outputs": []
    },
    {
      "cell_type": "code",
      "metadata": {
        "id": "-f5ntUBKBSyC",
        "colab_type": "code",
        "colab": {},
        "outputId": "238c42ec-b5b1-4c81-dd07-b3cf17678112"
      },
      "source": [
        "x_sd, i_sd"
      ],
      "execution_count": 0,
      "outputs": [
        {
          "output_type": "execute_result",
          "data": {
            "text/plain": [
              "(array([[ 1.06923169],\n",
              "        [-1.89608906],\n",
              "        [ 0.62988992]]), 181)"
            ]
          },
          "metadata": {
            "tags": []
          },
          "execution_count": 364
        }
      ]
    },
    {
      "cell_type": "code",
      "metadata": {
        "id": "4Pb6jjugBSyD",
        "colab_type": "code",
        "colab": {},
        "outputId": "2dc04fa1-8e77-44d5-f470-a1ec555aa882"
      },
      "source": [
        "f(x)"
      ],
      "execution_count": 0,
      "outputs": [
        {
          "output_type": "execute_result",
          "data": {
            "text/plain": [
              "-0.25077907325830495"
            ]
          },
          "metadata": {
            "tags": []
          },
          "execution_count": 365
        }
      ]
    },
    {
      "cell_type": "markdown",
      "metadata": {
        "id": "1uhwTy0wBSyE",
        "colab_type": "text"
      },
      "source": [
        "# Покоординатный спуск "
      ]
    },
    {
      "cell_type": "markdown",
      "metadata": {
        "id": "o8y9gO4KBSyE",
        "colab_type": "text"
      },
      "source": [
        "E - вспомогательная матрца, оттуда мы будем брать орты пространства "
      ]
    },
    {
      "cell_type": "code",
      "metadata": {
        "id": "gFx3Ops2BSyF",
        "colab_type": "code",
        "colab": {},
        "outputId": "c80101b6-8eaf-410c-fc4f-0a37fe46c53a"
      },
      "source": [
        "E = np.eye(n) \n",
        "E = np.matrix(E)\n",
        "E[0]"
      ],
      "execution_count": 0,
      "outputs": [
        {
          "output_type": "execute_result",
          "data": {
            "text/plain": [
              "matrix([[1., 0., 0.]])"
            ]
          },
          "metadata": {
            "tags": []
          },
          "execution_count": 366
        }
      ]
    },
    {
      "cell_type": "code",
      "metadata": {
        "id": "q_YKuaZcBSyG",
        "colab_type": "code",
        "colab": {}
      },
      "source": [
        "x = b\n",
        "i = 0\n",
        "\n",
        "while True: \n",
        "    q = E[i % n].T\n",
        "    mu = q.T @ (A@x + b) / (q.T @ A @ q)\n",
        "    \n",
        "    x_old = x\n",
        "    x = x - np.asscalar(mu) * q\n",
        "    \n",
        "    i += 1\n",
        "    if(np.linalg.norm(x - x_old) < eps or i > 1000000):\n",
        "        break\n",
        "        \n",
        "x_coord, i_coord = x, i"
      ],
      "execution_count": 0,
      "outputs": []
    },
    {
      "cell_type": "code",
      "metadata": {
        "id": "1dhb0O-FBSyG",
        "colab_type": "code",
        "colab": {},
        "outputId": "19be6978-8919-40cc-adab-93c08981221b"
      },
      "source": [
        "x_coord, i_coord"
      ],
      "execution_count": 0,
      "outputs": [
        {
          "output_type": "execute_result",
          "data": {
            "text/plain": [
              "(matrix([[ 1.06922892],\n",
              "         [-1.8960841 ],\n",
              "         [ 0.62988727]]), 370)"
            ]
          },
          "metadata": {
            "tags": []
          },
          "execution_count": 368
        }
      ]
    },
    {
      "cell_type": "code",
      "metadata": {
        "id": "cAIvZWZnBSyH",
        "colab_type": "code",
        "colab": {},
        "outputId": "f9b9ae87-d9b0-4a6f-9f26-a4754a3dd2ad"
      },
      "source": [
        "f(x)"
      ],
      "execution_count": 0,
      "outputs": [
        {
          "output_type": "execute_result",
          "data": {
            "text/plain": [
              "-0.25077907325450266"
            ]
          },
          "metadata": {
            "tags": []
          },
          "execution_count": 369
        }
      ]
    },
    {
      "cell_type": "markdown",
      "metadata": {
        "id": "3wKMd4bfBSyI",
        "colab_type": "text"
      },
      "source": [
        "# Точный метод (метод Гаусса) "
      ]
    },
    {
      "cell_type": "code",
      "metadata": {
        "id": "4BGzmtf4BSyI",
        "colab_type": "code",
        "colab": {}
      },
      "source": [
        "def gaus(A, b):\n",
        "    n = A.shape[0]\n",
        "    for i in range(n):\n",
        "        b[i] = b[i] / A[i][i]\n",
        "        A[i] = A[i] / A[i][i]\n",
        "        for j in range(i + 1, n):\n",
        "            b[j] = b[j] - A[j][i] * b[i]\n",
        "            A[j] = A[j] - A[j][i] * A[i]\n",
        "\n",
        "    for i in range(n - 1, -1, -1):\n",
        "        for j in range(i - 1, -1, -1):\n",
        "            b[j] -= b[i] * A[j][i]\n",
        "    return b"
      ],
      "execution_count": 0,
      "outputs": []
    },
    {
      "cell_type": "code",
      "metadata": {
        "id": "6ElbmVGeBSyI",
        "colab_type": "code",
        "colab": {}
      },
      "source": [
        "x_pr = gaus(A.copy(), -b.copy())"
      ],
      "execution_count": 0,
      "outputs": []
    },
    {
      "cell_type": "code",
      "metadata": {
        "id": "K_SfFjfZBSyJ",
        "colab_type": "code",
        "colab": {},
        "outputId": "d6010a41-7a0f-42ff-897b-cb952fd94e47"
      },
      "source": [
        "x_pr"
      ],
      "execution_count": 0,
      "outputs": [
        {
          "output_type": "execute_result",
          "data": {
            "text/plain": [
              "array([[ 1.06923909],\n",
              "       [-1.89610086],\n",
              "       [ 0.62989981]])"
            ]
          },
          "metadata": {
            "tags": []
          },
          "execution_count": 372
        }
      ]
    },
    {
      "cell_type": "code",
      "metadata": {
        "id": "VoId82D3BSyK",
        "colab_type": "code",
        "colab": {},
        "outputId": "13ab6bf9-2ba7-4e80-dec2-6cfbc33cbee3"
      },
      "source": [
        "f(x_pr)"
      ],
      "execution_count": 0,
      "outputs": [
        {
          "output_type": "execute_result",
          "data": {
            "text/plain": [
              "-0.25077907326237764"
            ]
          },
          "metadata": {
            "tags": []
          },
          "execution_count": 373
        }
      ]
    },
    {
      "cell_type": "markdown",
      "metadata": {
        "id": "5K5z76rXBSyK",
        "colab_type": "text"
      },
      "source": [
        "# Сравнение методов "
      ]
    },
    {
      "cell_type": "markdown",
      "metadata": {
        "id": "mCtd5V-lBSyL",
        "colab_type": "text"
      },
      "source": [
        "## наискорейший спуск "
      ]
    },
    {
      "cell_type": "code",
      "metadata": {
        "id": "qbkFm5foBSyL",
        "colab_type": "code",
        "colab": {},
        "outputId": "0980973b-08da-413e-b768-36087913ee35"
      },
      "source": [
        "print(\"Расхождение с точным ответом: \", np.linalg.norm(x_sd - x_pr))\n",
        "print(\"Количество шагов: \", i_sd)"
      ],
      "execution_count": 0,
      "outputs": [
        {
          "output_type": "stream",
          "text": [
            "Расхождение с точным ответом:  1.707979842110449e-05\n",
            "Количество шагов:  181\n"
          ],
          "name": "stdout"
        }
      ]
    },
    {
      "cell_type": "markdown",
      "metadata": {
        "id": "PSVq31s9BSyM",
        "colab_type": "text"
      },
      "source": [
        "## покоординатный спуск "
      ]
    },
    {
      "cell_type": "code",
      "metadata": {
        "id": "RYSJUiJ8BSyM",
        "colab_type": "code",
        "colab": {},
        "outputId": "761dc671-a3a1-4661-8b4a-3175268c2edb"
      },
      "source": [
        "print(\"Расхождение с точным ответом: \", np.linalg.norm(x_coord - x_pr))\n",
        "print(\"Количество шагов: \", i_coord)"
      ],
      "execution_count": 0,
      "outputs": [
        {
          "output_type": "stream",
          "text": [
            "Расхождение с точным ответом:  2.3270048377612103e-05\n",
            "Количество шагов:  370\n"
          ],
          "name": "stdout"
        }
      ]
    },
    {
      "cell_type": "markdown",
      "metadata": {
        "id": "fN1wfOBcBSyM",
        "colab_type": "text"
      },
      "source": [
        "# Проверка необходимого условия минимума "
      ]
    },
    {
      "cell_type": "markdown",
      "metadata": {
        "id": "yfcs3nebBSyN",
        "colab_type": "text"
      },
      "source": [
        "## точный метод"
      ]
    },
    {
      "cell_type": "code",
      "metadata": {
        "id": "Oan7TtgTBSyN",
        "colab_type": "code",
        "colab": {},
        "outputId": "6eb6c379-f99a-4836-e911-a1c65d09f549"
      },
      "source": [
        "if(np.linalg.norm(A @ x_pr + b) < eps): \n",
        "    print(\"PASSED\", A @ x_pr + b)\n",
        "else: \n",
        "    print(\"NOT PASSED\", A @ x_pr + b)"
      ],
      "execution_count": 0,
      "outputs": [
        {
          "output_type": "stream",
          "text": [
            "PASSED [[-1.11022302e-16]\n",
            " [ 1.66533454e-16]\n",
            " [ 5.55111512e-17]]\n"
          ],
          "name": "stdout"
        }
      ]
    },
    {
      "cell_type": "markdown",
      "metadata": {
        "id": "jFr54k_3BSyO",
        "colab_type": "text"
      },
      "source": [
        "## наискорейший спуск "
      ]
    },
    {
      "cell_type": "code",
      "metadata": {
        "id": "EWAL7XfpBSyO",
        "colab_type": "code",
        "colab": {},
        "outputId": "c2620312-1acb-4e04-8091-7ceeb2a1e318"
      },
      "source": [
        "if(np.linalg.norm(A @ x_sd + b) < eps): \n",
        "    print(\"PASSED\", A @ x_sd + b)\n",
        "else: \n",
        "    print(\"NOT PASSED\", A @ x_sd + b)"
      ],
      "execution_count": 0,
      "outputs": [
        {
          "output_type": "stream",
          "text": [
            "PASSED [[-3.41569383e-07]\n",
            " [ 1.82288585e-07]\n",
            " [-3.50540003e-07]]\n"
          ],
          "name": "stdout"
        }
      ]
    },
    {
      "cell_type": "markdown",
      "metadata": {
        "id": "-c6F46VABSyO",
        "colab_type": "text"
      },
      "source": [
        "## покоординатный спуск "
      ]
    },
    {
      "cell_type": "code",
      "metadata": {
        "id": "SMXTyk-xBSyP",
        "colab_type": "code",
        "colab": {},
        "outputId": "6a00905e-6819-42ec-9925-77eeef764958"
      },
      "source": [
        "if(np.linalg.norm(A @ x_pr + b) < eps): \n",
        "    print(\"PASSED\", A @ x_pr + b)\n",
        "else: \n",
        "    print(\"NOT PASSED\", A @ x_pr + b)"
      ],
      "execution_count": 0,
      "outputs": [
        {
          "output_type": "stream",
          "text": [
            "PASSED [[-1.11022302e-16]\n",
            " [ 1.66533454e-16]\n",
            " [ 5.55111512e-17]]\n"
          ],
          "name": "stdout"
        }
      ]
    },
    {
      "cell_type": "code",
      "metadata": {
        "id": "Fj9807WxBSyP",
        "colab_type": "code",
        "colab": {
          "base_uri": "https://localhost:8080/",
          "height": 35
        },
        "outputId": "ad4f54e1-6155-4154-a88b-523014d05ad0"
      },
      "source": [
        "print(\"test123\")"
      ],
      "execution_count": 1,
      "outputs": [
        {
          "output_type": "stream",
          "text": [
            "test123\n"
          ],
          "name": "stdout"
        }
      ]
    }
  ]
}